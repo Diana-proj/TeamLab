{
  "cells": [
    {
      "cell_type": "code",
      "execution_count": 1,
      "metadata": {
        "id": "SQgYNX8hfFqP"
      },
      "outputs": [],
      "source": [
        "import pandas as pd\n",
        "import numpy as np"
      ]
    },
    {
      "cell_type": "code",
      "execution_count": 2,
      "metadata": {
        "colab": {
          "base_uri": "https://localhost:8080/",
          "height": 74
        },
        "id": "7HZa4LDcfID3",
        "outputId": "aa17a3ff-55ea-4092-c274-f3af58002c81"
      },
      "outputs": [],
      "source": [
        "file_path = '/Users/diana/Desktop/isear-train.xlsx'\n",
        "custom_headers = ['Emotions', 'Text']\n",
        "df = pd.read_excel(file_path, skiprows=1, header=None, names=custom_headers)"
      ]
    },
    {
      "cell_type": "code",
      "execution_count": 3,
      "metadata": {
        "colab": {
          "base_uri": "https://localhost:8080/",
          "height": 206
        },
        "id": "Rr-bdNNbaIob",
        "outputId": "7ed4b80b-90df-4c29-efa6-027ed1464d4e"
      },
      "outputs": [
        {
          "data": {
            "text/html": [
              "<div>\n",
              "<style scoped>\n",
              "    .dataframe tbody tr th:only-of-type {\n",
              "        vertical-align: middle;\n",
              "    }\n",
              "\n",
              "    .dataframe tbody tr th {\n",
              "        vertical-align: top;\n",
              "    }\n",
              "\n",
              "    .dataframe thead th {\n",
              "        text-align: right;\n",
              "    }\n",
              "</style>\n",
              "<table border=\"1\" class=\"dataframe\">\n",
              "  <thead>\n",
              "    <tr style=\"text-align: right;\">\n",
              "      <th></th>\n",
              "      <th>Emotions</th>\n",
              "      <th>Text</th>\n",
              "    </tr>\n",
              "  </thead>\n",
              "  <tbody>\n",
              "    <tr>\n",
              "      <th>0</th>\n",
              "      <td>sadness</td>\n",
              "      <td>Losing my girlfriend who made an end to our re...</td>\n",
              "    </tr>\n",
              "    <tr>\n",
              "      <th>1</th>\n",
              "      <td>disgust</td>\n",
              "      <td>[ No response.]</td>\n",
              "    </tr>\n",
              "    <tr>\n",
              "      <th>2</th>\n",
              "      <td>fear</td>\n",
              "      <td>Staying alone in a dark place.</td>\n",
              "    </tr>\n",
              "    <tr>\n",
              "      <th>3</th>\n",
              "      <td>shame</td>\n",
              "      <td>When I failed grade 7.</td>\n",
              "    </tr>\n",
              "    <tr>\n",
              "      <th>4</th>\n",
              "      <td>anger</td>\n",
              "      <td>I am a teacher in arts and crafts (boys from 1...</td>\n",
              "    </tr>\n",
              "  </tbody>\n",
              "</table>\n",
              "</div>"
            ],
            "text/plain": [
              "  Emotions                                               Text\n",
              "0  sadness  Losing my girlfriend who made an end to our re...\n",
              "1  disgust                                    [ No response.]\n",
              "2     fear                     Staying alone in a dark place.\n",
              "3    shame                             When I failed grade 7.\n",
              "4    anger  I am a teacher in arts and crafts (boys from 1..."
            ]
          },
          "execution_count": 3,
          "metadata": {},
          "output_type": "execute_result"
        }
      ],
      "source": [
        "df.head ()"
      ]
    },
    {
      "cell_type": "code",
      "execution_count": 4,
      "metadata": {
        "id": "B1d3uUgTfS-8"
      },
      "outputs": [],
      "source": [
        "total_count = df['Emotions'].value_counts().sum()\n",
        "#print (total_count)"
      ]
    },
    {
      "cell_type": "code",
      "execution_count": 5,
      "metadata": {
        "colab": {
          "base_uri": "https://localhost:8080/"
        },
        "id": "OGIwuydtf0jh",
        "outputId": "f48e5fa1-48ac-4dbb-c739-a51e8e330116"
      },
      "outputs": [
        {
          "data": {
            "text/plain": [
              "Emotions\n",
              "sadness    775\n",
              "fear       770\n",
              "guilt      767\n",
              "shame      765\n",
              "anger      764\n",
              "joy        764\n",
              "disgust    761\n",
              "Name: count, dtype: int64"
            ]
          },
          "execution_count": 5,
          "metadata": {},
          "output_type": "execute_result"
        }
      ],
      "source": [
        "df['Emotions'].value_counts()\n"
      ]
    },
    {
      "cell_type": "code",
      "execution_count": 6,
      "metadata": {},
      "outputs": [
        {
          "name": "stdout",
          "output_type": "stream",
          "text": [
            "0       sadness\n",
            "1       disgust\n",
            "2          fear\n",
            "3         shame\n",
            "4         anger\n",
            "         ...   \n",
            "5361       fear\n",
            "5362      anger\n",
            "5363    sadness\n",
            "5364    disgust\n",
            "5365       fear\n",
            "Name: Emotions, Length: 5366, dtype: object\n",
            "(5366,)\n",
            "<class 'pandas.core.series.Series'>\n",
            "['sadness' 'disgust' 'fear' ... 'sadness' 'disgust' 'fear']\n"
          ]
        }
      ],
      "source": [
        "print (df['Emotions'])\n",
        "print (df['Emotions'].shape)\n",
        "print (type (df['Emotions']))\n",
        "print (df['Emotions'].values)"
      ]
    },
    {
      "cell_type": "code",
      "execution_count": 7,
      "metadata": {},
      "outputs": [],
      "source": [
        "emotion_labels = list (set (df['Emotions'].values))"
      ]
    },
    {
      "cell_type": "code",
      "execution_count": 8,
      "metadata": {},
      "outputs": [
        {
          "name": "stdout",
          "output_type": "stream",
          "text": [
            "Encoded labels: [5 1 2 ... 5 1 2]\n"
          ]
        }
      ],
      "source": [
        "from sklearn.preprocessing import LabelEncoder\n",
        "\n",
        "y = df['Emotions'].values\n",
        "\n",
        "\n",
        "label_encoder = LabelEncoder()\n",
        "y_train_encoded = label_encoder.fit_transform(y)\n",
        "\n",
        "print(\"Encoded labels:\", y_train_encoded)"
      ]
    },
    {
      "cell_type": "code",
      "execution_count": 9,
      "metadata": {},
      "outputs": [],
      "source": [
        "def tokenize(text):\n",
        "    translation_table = str.maketrans({c: f' {c} ' if not c.isalnum() else c for c in set(text)})  # creates translation\n",
        "    # table(dictionary) with the built-in function maketrans, set(text) makes an unordered collection of unique\n",
        "    # elements through set comprehension, a concise way to create sets\n",
        "    tokenized_text = text.translate(translation_table)  # uses translation table to add whitespace around special\n",
        "    # characters and punctuation\n",
        "    return tokenized_text.strip().lower().split()  # split-tokens split on space, lower-tokens made all lowercase,\n",
        "    # strip-and leading or trailing whitespaces are removed from string\n",
        "\n",
        "import string \n",
        "\n",
        "#extract dict\n",
        "text = ''.join(df['Text'].astype(str))\n",
        "#print(vocab)\n",
        "\n",
        "tokenized_text = []\n",
        "for index, sentence in enumerate(df['Text']):\n",
        "    emotion_label = df['Emotions'][index]\n",
        "    sentence = tokenize(sentence)\n",
        "    tokenized_text.append (sentence)\n",
        "    #print(emotion_label, sentence)\n",
        "#print (tokenized_text)\n",
        "\n",
        "\n",
        "filtered_tokens = []\n",
        "\n",
        "for tokens in tokenized_text:\n",
        "    # Initialize a list to store tokens without punctuation\n",
        "    clean_tokens = []\n",
        "    \n",
        "    # Iterate through each token in the list\n",
        "    for token in tokens:\n",
        "        # Check if the token is punctuation\n",
        "        if all(char in string.punctuation for char in token):\n",
        "            continue  # Skip punctuation tokens\n",
        "        if token.isdigit():\n",
        "            continue  # Skip punctuation tokens\n",
        "        else:\n",
        "            clean_tokens.append(token)  # Append non-punctuation tokens to clean_tokens list\n",
        "    \n",
        "    # Append the clean_tokens list to filtered_tokens, preserving sentence structure\n",
        "    filtered_tokens.append(clean_tokens)\n",
        "\n",
        "# Print the filtered tokens\n",
        "#print(filtered_tokens)\n",
        "tokenized_text = filtered_tokens\n",
        "\n",
        "vocab = []\n",
        "for sentence in tokenized_text:\n",
        "    for token in sentence:\n",
        "        vocab.append (token)\n",
        "vocab = set (vocab)\n",
        "#print (len(vocab))\n"
      ]
    },
    {
      "cell_type": "code",
      "execution_count": 11,
      "metadata": {},
      "outputs": [],
      "source": [
        "from math import log\n",
        "\n",
        "collection = [token for instance in tokenized_text for token in instance]\n",
        "\n",
        "#tf-idf\n",
        "\n",
        "def calculate_tfidf(token, document):\n",
        "    #tf = np.log(document.count(token) / len(document)) if token in document else 0 # 1+log(#oftimestokenindoc/total#termsindoc)\n",
        "    tf = document.count(token) / len(document)\n",
        "    idf = log(1 + (len(tokenized_text) / (collection.count(token) + 1)))\n",
        "    tfidf = tf * idf\n",
        "    return tfidf\n",
        "\n",
        "tfidf_scores_list = []\n",
        "for sentence in tokenized_text:\n",
        "    tfidf_scores = {token: calculate_tfidf(token, sentence) for token in set(sentence)}\n",
        "    tfidf_scores_list.append(tfidf_scores)\n"
      ]
    },
    {
      "cell_type": "code",
      "execution_count": 12,
      "metadata": {},
      "outputs": [
        {
          "name": "stdout",
          "output_type": "stream",
          "text": [
            "7420\n"
          ]
        }
      ],
      "source": [
        "from scipy.sparse import csr_matrix\n",
        "\n",
        "def CSR(x_emotion):\n",
        "    # Construct a vocabulary list from the tfidf_scores_list\n",
        "    vocab = list(set(token for scores in x_emotion for token in scores.keys()))\n",
        "\n",
        "    # Construct a mapping from term to column index\n",
        "    term_to_col = {term: idx for idx, term in enumerate(vocab)}\n",
        "    print (len(term_to_col))\n",
        "    # Convert the list of TF-IDF scores into a CSR sparse matrix\n",
        "    n_docs = len(x_emotion)\n",
        "    n_terms = len(vocab)\n",
        "    rows = []\n",
        "    cols = []\n",
        "    data = []\n",
        "    for doc_idx, scores in enumerate(x_emotion):\n",
        "        for term, tfidf in scores.items():\n",
        "            col_idx = term_to_col[term]\n",
        "            rows.append(doc_idx)\n",
        "            cols.append(col_idx)\n",
        "            data.append(tfidf)\n",
        "\n",
        "    X_tfidf_sparse = csr_matrix((data, (rows, cols)), shape=(n_docs, n_terms))\n",
        "    return X_tfidf_sparse\n",
        "\n",
        "X_tfidf_sparse = CSR (tfidf_scores_list)\n",
        "\n",
        "#print(X_tfidf_sparse[2])\n"
      ]
    },
    {
      "cell_type": "code",
      "execution_count": 13,
      "metadata": {},
      "outputs": [],
      "source": [
        "class LogisticRegressionMulticlass:\n",
        "    def __init__(self, learning_rate=0.3, num_iterations=10000):\n",
        "        self.learning_rate = learning_rate\n",
        "        self.num_iterations = num_iterations\n",
        "        self.weights = None\n",
        "        self.bias = None\n",
        "    \n",
        "    \n",
        "    def softmax(self, z):\n",
        "        exp_z = np.exp(z - np.max(z, axis=1, keepdims=True))\n",
        "        return exp_z / np.sum(exp_z, axis=1, keepdims=True)\n",
        "    \n",
        "    def xavier_init(self, shape):\n",
        "        fan_in = shape[0]\n",
        "        fan_out = shape[1]\n",
        "        limit = np.sqrt(6 / (fan_in + fan_out))\n",
        "        return np.random.uniform(-limit, limit, size=shape)\n",
        "    \n",
        "    def fit(self, X, y):\n",
        "        num_samples, num_features = X.shape\n",
        "        num_classes = len(np.unique(y))\n",
        "        self.weights = self.xavier_init((num_features, num_classes))\n",
        "        self.bias = np.zeros((1, num_classes))\n",
        "        y_one_hot = np.eye(num_classes)[y]\n",
        "        \n",
        "        for _ in range(self.num_iterations):\n",
        "            linear_model = X.dot(self.weights) + self.bias\n",
        "            y_pred = self.softmax(linear_model)\n",
        "            \n",
        "            dw = (1 / num_samples) * X.T.dot(y_pred - y_one_hot)\n",
        "            db = (1 / num_samples) * np.sum(y_pred - y_one_hot, axis=0, keepdims=True)\n",
        "            \n",
        "            self.weights -= self.learning_rate * dw\n",
        "            self.bias -= self.learning_rate * db\n",
        "    \n",
        "            \n",
        "    def predict(self, X):\n",
        "\n",
        "        num_samples, num_features = X.shape\n",
        "        _, num_classes = self.weights.shape\n",
        "    \n",
        "        if num_features != self.weights.shape[0]:\n",
        "            self.weights = self.xavier_init((num_features, num_classes))\n",
        "            \n",
        "        linear_predictions = X.dot(self.weights) + self.bias\n",
        "        y_pred = self.softmax(linear_predictions)\n",
        "        print (self.weights.shape)\n",
        "        class_pred = np.argmax(y_pred, axis=1)  # Choose the class with the highest probability\n",
        "        return class_pred\n"
      ]
    },
    {
      "cell_type": "code",
      "execution_count": 14,
      "metadata": {},
      "outputs": [],
      "source": [
        "model = LogisticRegressionMulticlass()\n",
        "model.fit(X_tfidf_sparse, y_train_encoded)"
      ]
    },
    {
      "cell_type": "code",
      "execution_count": 18,
      "metadata": {},
      "outputs": [
        {
          "name": "stdout",
          "output_type": "stream",
          "text": [
            "(7420, 7)\n",
            "Micro-average F1-score: 0.7590383898620947\n",
            "F1-score on training data: 0.7594288487736144\n"
          ]
        }
      ],
      "source": [
        "pred = model.predict (X_tfidf_sparse)\n",
        "#print (pred[0:300])\n",
        "#print (y_train_encoded[0:300])\n",
        "\n",
        "from sklearn.metrics import f1_score\n",
        "\n",
        "micro_average_f1 = f1_score(pred, y_train_encoded, average='micro')\n",
        "print(\"Micro-average F1-score:\", micro_average_f1)\n",
        "\n",
        "f1_external = f1_score(pred, y_train_encoded, average='weighted')\n",
        "print(\"F1-score on training data:\", f1_external)\n"
      ]
    },
    {
      "cell_type": "code",
      "execution_count": 16,
      "metadata": {},
      "outputs": [],
      "source": [
        "#Perfomance on the test set\n",
        "\n",
        "from sklearn.metrics import f1_score\n",
        "from scipy.sparse import csr_matrix\n",
        "from math import log\n",
        "\n",
        "custom_headers_t = ['Emotion', 'Texts']\n",
        "file = '/Users/diana/Desktop/isear-test.xlsx'\n",
        "d = pd.read_excel(file, skiprows=1, header=None, names=custom_headers_t)\n",
        "\n",
        "# Tokenize the test data\n",
        "\n",
        "tokenized_text_test = []\n",
        "for index, sentence in enumerate(d['Texts']):\n",
        "    emotion_label = d['Emotion'][index]\n",
        "    sentence = tokenize(sentence)\n",
        "    tokenized_text_test.append (sentence)\n",
        "   \n",
        "filtered_tokens_test = []\n",
        "\n",
        "import string \n",
        "for tokens in tokenized_text_test:\n",
        "    # Initialize a list to store tokens without punctuation\n",
        "    clean_tokens = []\n",
        "    \n",
        "    # Iterate through each token in the list\n",
        "    for token in tokens:\n",
        "        # Check if the token is punctuation\n",
        "        if all(char in string.punctuation for char in token):\n",
        "            continue  # Skip punctuation tokens\n",
        "        if token.isdigit():\n",
        "            continue  # Skip punctuation tokens\n",
        "        else:\n",
        "            clean_tokens.append(token)  # Append non-punctuation tokens to clean_tokens list\n",
        "    \n",
        "    # Append the clean_tokens list to filtered_tokens, preserving sentence structure\n",
        "    filtered_tokens_test.append(clean_tokens)\n",
        "\n",
        "# Print the filtered tokens\n",
        "#print(filtered_tokens_test)\n",
        "\n",
        "tokenized_text_test=filtered_tokens_test\n",
        "\n",
        "collection_test  = [token for instance in tokenized_text_test for token in instance]\n",
        "\n",
        "def calculate_tfidf(token, document):\n",
        "    #tf = np.log(document.count(token) / len(document)) if token in document else 0 # 1+log(#oftimestokenindoc/total#termsindoc)\n",
        "    tf = document.count(token) / len(document) \n",
        "    idf = log(1 + (len(tokenized_text) / (collection.count(token) + 1)))\n",
        "    tfidf = tf * idf\n",
        "    return tfidf\n",
        "\n",
        "# Construct a list of TF-IDF scores for the test data\n",
        "tfidf_scores_list_test = []\n",
        "for sentence in tokenized_text_test:\n",
        "    tfidf_scores_test = {token: calculate_tfidf(token, sentence) for token in set(sentence)}\n",
        "    tfidf_scores_list_test.append(tfidf_scores_test)\n",
        "#print (tfidf_scores_list_test )\n",
        "\n",
        "\n",
        "# Construct a mapping from term to column index\n",
        "term_to_col_test = {term: idx for idx, term in enumerate(vocab)}\n",
        "\n",
        "# Convert the list of TF-IDF scores into a CSR sparse matrix using the same vocabulary and mapping from training\n",
        "n_terms = len(vocab)\n",
        "n_docs_test = len(tfidf_scores_list_test)\n",
        "rows_test = []\n",
        "cols_test = []\n",
        "data_test = []\n",
        "for doc_idx, scores_t in enumerate(tfidf_scores_list_test):\n",
        "    for term, tfidf in scores_t.items():\n",
        "        if term in term_to_col_test:  # Check if term is in the vocabulary\n",
        "            col_idx = term_to_col_test[term]\n",
        "            rows_test.append(doc_idx)\n",
        "            cols_test.append(col_idx)\n",
        "            data_test.append(tfidf)\n",
        "\n",
        "\n",
        "X_tfidf_sparse_test = csr_matrix((data_test, (rows_test, cols_test)), shape=(n_docs_test, n_terms))\n",
        "#print(\"Shape of X_tfidf_sparse_test:\", X_tfidf_sparse_test)\n"
      ]
    },
    {
      "cell_type": "code",
      "execution_count": 19,
      "metadata": {},
      "outputs": [
        {
          "name": "stdout",
          "output_type": "stream",
          "text": [
            "(7420, 7)\n",
            "F1-score on external test data: 0.5802989747809041\n",
            "Micro-average F1-score: 0.5826086956521739\n"
          ]
        }
      ],
      "source": [
        "# Predict labels using the trained logistic regression model\n",
        "\n",
        "y_external_pred = model.predict(X_tfidf_sparse_test)\n",
        "\n",
        "\n",
        "# Load true labels from the external test file\n",
        "y_external_true = d['Emotion'].values\n",
        "label_encoder = LabelEncoder()\n",
        "y_external_true = label_encoder.fit_transform(y_external_true)\n",
        "y_external_true_enc = np.array(y_external_true)\n",
        "\n",
        "\n",
        "f1_external = f1_score(y_external_true, y_external_pred, average='weighted')\n",
        "print(\"F1-score on external test data:\", f1_external)\n",
        "micro_average_f1 = f1_score(y_external_true, y_external_pred, average='micro')\n",
        "print(\"Micro-average F1-score:\", micro_average_f1)\n",
        "\n",
        "#print (y_external_true[0:300],y_external_pred[0:300])"
      ]
    },
    {
      "cell_type": "markdown",
      "metadata": {},
      "source": []
    }
  ],
  "metadata": {
    "accelerator": "GPU",
    "colab": {
      "gpuType": "T4",
      "provenance": []
    },
    "kernelspec": {
      "display_name": "Python 3",
      "name": "python3"
    },
    "language_info": {
      "codemirror_mode": {
        "name": "ipython",
        "version": 3
      },
      "file_extension": ".py",
      "mimetype": "text/x-python",
      "name": "python",
      "nbconvert_exporter": "python",
      "pygments_lexer": "ipython3",
      "version": "3.10.13"
    }
  },
  "nbformat": 4,
  "nbformat_minor": 0
}
