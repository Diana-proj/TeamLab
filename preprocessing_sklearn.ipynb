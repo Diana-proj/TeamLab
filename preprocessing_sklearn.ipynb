{
  "cells": [
    {
      "cell_type": "code",
      "execution_count": 1,
      "metadata": {
        "id": "SQgYNX8hfFqP"
      },
      "outputs": [],
      "source": [
        "import pandas as pd\n",
        "import numpy as np"
      ]
    },
    {
      "cell_type": "code",
      "execution_count": 2,
      "metadata": {
        "colab": {
          "base_uri": "https://localhost:8080/",
          "height": 74
        },
        "id": "7HZa4LDcfID3",
        "outputId": "aa17a3ff-55ea-4092-c274-f3af58002c81"
      },
      "outputs": [],
      "source": [
        "file_path = '/Users/diana/Desktop/isear-train.xlsx'\n",
        "custom_headers = ['Emotions', 'Text']\n",
        "df = pd.read_excel(file_path, skiprows=1, header=None, names=custom_headers)"
      ]
    },
    {
      "cell_type": "markdown",
      "metadata": {},
      "source": [
        "conda install openpyxl"
      ]
    },
    {
      "cell_type": "code",
      "execution_count": 3,
      "metadata": {
        "colab": {
          "base_uri": "https://localhost:8080/",
          "height": 206
        },
        "id": "Rr-bdNNbaIob",
        "outputId": "7ed4b80b-90df-4c29-efa6-027ed1464d4e"
      },
      "outputs": [
        {
          "data": {
            "text/html": [
              "<div>\n",
              "<style scoped>\n",
              "    .dataframe tbody tr th:only-of-type {\n",
              "        vertical-align: middle;\n",
              "    }\n",
              "\n",
              "    .dataframe tbody tr th {\n",
              "        vertical-align: top;\n",
              "    }\n",
              "\n",
              "    .dataframe thead th {\n",
              "        text-align: right;\n",
              "    }\n",
              "</style>\n",
              "<table border=\"1\" class=\"dataframe\">\n",
              "  <thead>\n",
              "    <tr style=\"text-align: right;\">\n",
              "      <th></th>\n",
              "      <th>Emotions</th>\n",
              "      <th>Text</th>\n",
              "    </tr>\n",
              "  </thead>\n",
              "  <tbody>\n",
              "    <tr>\n",
              "      <th>0</th>\n",
              "      <td>sadness</td>\n",
              "      <td>Losing my girlfriend who made an end to our re...</td>\n",
              "    </tr>\n",
              "    <tr>\n",
              "      <th>1</th>\n",
              "      <td>disgust</td>\n",
              "      <td>[ No response.]</td>\n",
              "    </tr>\n",
              "    <tr>\n",
              "      <th>2</th>\n",
              "      <td>fear</td>\n",
              "      <td>Staying alone in a dark place.</td>\n",
              "    </tr>\n",
              "    <tr>\n",
              "      <th>3</th>\n",
              "      <td>shame</td>\n",
              "      <td>When I failed grade 7.</td>\n",
              "    </tr>\n",
              "    <tr>\n",
              "      <th>4</th>\n",
              "      <td>anger</td>\n",
              "      <td>I am a teacher in arts and crafts (boys from 1...</td>\n",
              "    </tr>\n",
              "  </tbody>\n",
              "</table>\n",
              "</div>"
            ],
            "text/plain": [
              "  Emotions                                               Text\n",
              "0  sadness  Losing my girlfriend who made an end to our re...\n",
              "1  disgust                                    [ No response.]\n",
              "2     fear                     Staying alone in a dark place.\n",
              "3    shame                             When I failed grade 7.\n",
              "4    anger  I am a teacher in arts and crafts (boys from 1..."
            ]
          },
          "execution_count": 3,
          "metadata": {},
          "output_type": "execute_result"
        }
      ],
      "source": [
        "df.head ()"
      ]
    },
    {
      "cell_type": "code",
      "execution_count": 4,
      "metadata": {
        "id": "B1d3uUgTfS-8"
      },
      "outputs": [
        {
          "name": "stdout",
          "output_type": "stream",
          "text": [
            "5366\n"
          ]
        }
      ],
      "source": [
        "total_count = df['Emotions'].value_counts().sum()\n",
        "print (total_count)"
      ]
    },
    {
      "cell_type": "code",
      "execution_count": 5,
      "metadata": {
        "colab": {
          "base_uri": "https://localhost:8080/"
        },
        "id": "OGIwuydtf0jh",
        "outputId": "f48e5fa1-48ac-4dbb-c739-a51e8e330116"
      },
      "outputs": [
        {
          "data": {
            "text/plain": [
              "Emotions\n",
              "sadness    775\n",
              "fear       770\n",
              "guilt      767\n",
              "shame      765\n",
              "anger      764\n",
              "joy        764\n",
              "disgust    761\n",
              "Name: count, dtype: int64"
            ]
          },
          "execution_count": 5,
          "metadata": {},
          "output_type": "execute_result"
        }
      ],
      "source": [
        "df['Emotions'].value_counts()\n"
      ]
    },
    {
      "cell_type": "code",
      "execution_count": 6,
      "metadata": {},
      "outputs": [
        {
          "name": "stdout",
          "output_type": "stream",
          "text": [
            "0       sadness\n",
            "1       disgust\n",
            "2          fear\n",
            "3         shame\n",
            "4         anger\n",
            "         ...   \n",
            "5361       fear\n",
            "5362      anger\n",
            "5363    sadness\n",
            "5364    disgust\n",
            "5365       fear\n",
            "Name: Emotions, Length: 5366, dtype: object\n",
            "(5366,)\n",
            "['sadness' 'disgust' 'fear' ... 'sadness' 'disgust' 'fear']\n"
          ]
        }
      ],
      "source": [
        "print (df['Emotions'])\n",
        "print (df['Emotions'].shape)\n",
        "print (df['Emotions'].values)"
      ]
    },
    {
      "cell_type": "code",
      "execution_count": 7,
      "metadata": {},
      "outputs": [],
      "source": [
        "emotion_labels = list (set (df['Emotions'].values))"
      ]
    },
    {
      "cell_type": "code",
      "execution_count": 8,
      "metadata": {},
      "outputs": [],
      "source": [
        "\n",
        "\n",
        "def tokenize(text):\n",
        "    translation_table = str.maketrans({c: f' {c} ' if not c.isalnum() else c for c in set(text)})  # creates translation\n",
        "    # table(dictionary) with the built-in function maketrans, set(text) makes an unordered collection of unique\n",
        "    # elements through set comprehension, a concise way to create sets\n",
        "    tokenized_text = text.translate(translation_table)  # uses translation table to add whitespace around special\n",
        "    # characters and punctuation\n",
        "    return tokenized_text.strip().lower().split()  # split-tokens split on space, lower-tokens made all lowercase,\n",
        "    # strip-and leading or trailing whitespaces are removed from string\n",
        "\n",
        "\n",
        "#extract dict\n",
        "text = ''.join(df['Text'].astype(str))\n",
        "tokenized_text = tokenize(text) #all tokens, including repeating\n",
        "#print (tokenized_text)\n",
        "vocab = set(tokenized_text)\n",
        "#print(vocab)\n",
        "\n",
        "tokenized_text = []\n",
        "for index, sentence in enumerate(df['Text']):\n",
        "    emotion_label = df['Emotions'][index]\n",
        "    sentence = tokenize(sentence)\n",
        "    tokenized_text.append (sentence)\n",
        "    #print(emotion_label, sentence)\n",
        "#print (tokenized_text)\n"
      ]
    },
    {
      "cell_type": "code",
      "execution_count": 9,
      "metadata": {},
      "outputs": [],
      "source": [
        "from sklearn.feature_extraction.text import CountVectorizer, TfidfTransformer\n",
        "from scipy.sparse import csr_matrix\n",
        "\n",
        "# Convert the list of tokenized sentences into a list of strings\n",
        "corpus = [' '.join(sentence) for sentence in tokenized_text]\n",
        "\n",
        "# Create a CountVectorizer to convert the corpus into a document-term matrix\n",
        "count_vectorizer = CountVectorizer(vocabulary=vocab)\n",
        "X_count = count_vectorizer.fit_transform(corpus)\n",
        "\n",
        "# Create a TfidfTransformer to compute the TF-IDF scores\n",
        "tfidf_transformer = TfidfTransformer()\n",
        "X_tfidf = tfidf_transformer.fit_transform(X_count)\n",
        "\n",
        "# Convert the TF-IDF matrix to CSR format if needed\n",
        "if not isinstance(X_tfidf, csr_matrix):\n",
        "    X_tfidf = X_tfidf.tocsr()\n",
        "\n",
        "#print (corpus)\n",
        "#print(X_tfidf)\n",
        "\n",
        "y = df['Emotions'].values\n"
      ]
    },
    {
      "cell_type": "code",
      "execution_count": 10,
      "metadata": {},
      "outputs": [],
      "source": [
        "tfidf_df = pd.DataFrame(X_tfidf)\n",
        "\n",
        "tfidf_df.to_csv('tfidf_representations.csv', index=False)\n",
        "\n",
        "tfidf_df.to_excel('tfidf_representations.xlsx', index=False)"
      ]
    },
    {
      "cell_type": "code",
      "execution_count": 12,
      "metadata": {},
      "outputs": [
        {
          "name": "stdout",
          "output_type": "stream",
          "text": [
            "Stored 'X_tfidf' (csr_matrix)\n",
            "Stored 'y' (ndarray)\n"
          ]
        }
      ],
      "source": [
        "%store X_tfidf\n",
        "%store y"
      ]
    },
    {
      "cell_type": "markdown",
      "metadata": {},
      "source": []
    }
  ],
  "metadata": {
    "accelerator": "GPU",
    "colab": {
      "gpuType": "T4",
      "provenance": []
    },
    "kernelspec": {
      "display_name": "Python 3",
      "name": "python3"
    },
    "language_info": {
      "codemirror_mode": {
        "name": "ipython",
        "version": 3
      },
      "file_extension": ".py",
      "mimetype": "text/x-python",
      "name": "python",
      "nbconvert_exporter": "python",
      "pygments_lexer": "ipython3",
      "version": "3.10.13"
    }
  },
  "nbformat": 4,
  "nbformat_minor": 0
}
