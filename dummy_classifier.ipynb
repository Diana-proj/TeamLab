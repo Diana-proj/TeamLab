{
  "cells": [
    {
      "cell_type": "code",
      "execution_count": 17,
      "metadata": {
        "id": "SQgYNX8hfFqP"
      },
      "outputs": [],
      "source": [
        "import pandas as pd\n",
        "import numpy as np\n",
        "import random"
      ]
    },
    {
      "cell_type": "code",
      "execution_count": 15,
      "metadata": {
        "colab": {
          "base_uri": "https://localhost:8080/"
        },
        "id": "E63jAiGpagyh",
        "outputId": "eeccc2db-760c-42dd-8809-bc8e31cc0c33"
      },
      "outputs": [
        {
          "name": "stdout",
          "output_type": "stream",
          "text": [
            "zsh:1: command not found: nvidia-smi\n"
          ]
        }
      ],
      "source": [
        "!nvidia-smi"
      ]
    },
    {
      "cell_type": "code",
      "execution_count": 8,
      "metadata": {
        "colab": {
          "base_uri": "https://localhost:8080/",
          "height": 74
        },
        "id": "7HZa4LDcfID3",
        "outputId": "aa17a3ff-55ea-4092-c274-f3af58002c81"
      },
      "outputs": [],
      "source": [
        "file_path = '/Users/diana/Desktop/isear-test.xlsx'\n",
        "custom_headers = ['Emotions', 'Text']\n",
        "df = pd.read_excel(file_path, skiprows=1, header=None, names=custom_headers)"
      ]
    },
    {
      "cell_type": "code",
      "execution_count": 17,
      "metadata": {},
      "outputs": [
        {
          "name": "stdout",
          "output_type": "stream",
          "text": [
            "Retrieving notices: ...working... done\n",
            "Channels:\n",
            " - defaults\n",
            " - conda-forge\n",
            " - huggingface\n",
            " - pytorch\n",
            "Platform: osx-64\n",
            "Collecting package metadata (repodata.json): done\n",
            "Solving environment: done\n",
            "\n",
            "## Package Plan ##\n",
            "\n",
            "  environment location: /Users/diana/miniconda3/envs/newenv\n",
            "\n",
            "  added / updated specs:\n",
            "    - openpyxl\n",
            "\n",
            "\n",
            "The following packages will be downloaded:\n",
            "\n",
            "    package                    |            build\n",
            "    ---------------------------|-----------------\n",
            "    ca-certificates-2024.3.11  |       hecd8cb5_0         128 KB\n",
            "    certifi-2024.2.2           |  py310hecd8cb5_0         160 KB\n",
            "    et_xmlfile-1.1.0           |  py310hecd8cb5_0          10 KB\n",
            "    openpyxl-3.0.10            |  py310hca72f7f_0         519 KB\n",
            "    ------------------------------------------------------------\n",
            "                                           Total:         817 KB\n",
            "\n",
            "The following NEW packages will be INSTALLED:\n",
            "\n",
            "  et_xmlfile         pkgs/main/osx-64::et_xmlfile-1.1.0-py310hecd8cb5_0 \n",
            "  openpyxl           pkgs/main/osx-64::openpyxl-3.0.10-py310hca72f7f_0 \n",
            "\n",
            "The following packages will be UPDATED:\n",
            "\n",
            "  ca-certificates                     2023.12.12-hecd8cb5_0 --> 2024.3.11-hecd8cb5_0 \n",
            "  certifi                        2023.11.17-py310hecd8cb5_0 --> 2024.2.2-py310hecd8cb5_0 \n",
            "\n",
            "\n",
            "\n",
            "Downloading and Extracting Packages:\n",
            "openpyxl-3.0.10      | 519 KB    |                                       |   0% \n",
            "certifi-2024.2.2     | 160 KB    |                                       |   0% \u001b[A\n",
            "\n",
            "ca-certificates-2024 | 128 KB    |                                       |   0% \u001b[A\u001b[A\n",
            "\n",
            "\n",
            "et_xmlfile-1.1.0     | 10 KB     |                                       |   0% \u001b[A\u001b[A\u001b[A\n",
            "certifi-2024.2.2     | 160 KB    | ###6                                  |  10% \u001b[A\n",
            "\n",
            "\n",
            "openpyxl-3.0.10      | 519 KB    | #1                                    |   3% \u001b[A\u001b[A\u001b[A\n",
            "\n",
            "ca-certificates-2024 | 128 KB    | ####6                                 |  12% \u001b[A\u001b[A\n",
            "\n",
            "\n",
            "et_xmlfile-1.1.0     | 10 KB     | ##################################### | 100% \u001b[A\u001b[A\u001b[A\n",
            "\n",
            "ca-certificates-2024 | 128 KB    | ##################################### | 100% \u001b[A\u001b[A\n",
            "certifi-2024.2.2     | 160 KB    | ##################################### | 100% \u001b[A\n",
            "                                                                                \u001b[A\n",
            "                                                                                \u001b[A\n",
            "\n",
            "                                                                                \u001b[A\u001b[A\n",
            "\n",
            "\n",
            "                                                                                \u001b[A\u001b[A\u001b[A\n",
            "Preparing transaction: done\n",
            "Verifying transaction: done\n",
            "Executing transaction: done\n",
            "\n",
            "Note: you may need to restart the kernel to use updated packages.\n"
          ]
        }
      ],
      "source": [
        "conda install openpyxl"
      ]
    },
    {
      "cell_type": "code",
      "execution_count": 9,
      "metadata": {
        "colab": {
          "base_uri": "https://localhost:8080/",
          "height": 206
        },
        "id": "Rr-bdNNbaIob",
        "outputId": "7ed4b80b-90df-4c29-efa6-027ed1464d4e"
      },
      "outputs": [
        {
          "data": {
            "text/html": [
              "<div>\n",
              "<style scoped>\n",
              "    .dataframe tbody tr th:only-of-type {\n",
              "        vertical-align: middle;\n",
              "    }\n",
              "\n",
              "    .dataframe tbody tr th {\n",
              "        vertical-align: top;\n",
              "    }\n",
              "\n",
              "    .dataframe thead th {\n",
              "        text-align: right;\n",
              "    }\n",
              "</style>\n",
              "<table border=\"1\" class=\"dataframe\">\n",
              "  <thead>\n",
              "    <tr style=\"text-align: right;\">\n",
              "      <th></th>\n",
              "      <th>Emotions</th>\n",
              "      <th>Text</th>\n",
              "    </tr>\n",
              "  </thead>\n",
              "  <tbody>\n",
              "    <tr>\n",
              "      <th>0</th>\n",
              "      <td>joy</td>\n",
              "      <td>My first feeling of falling in love.  Coming a...</td>\n",
              "    </tr>\n",
              "    <tr>\n",
              "      <th>1</th>\n",
              "      <td>joy</td>\n",
              "      <td>When I saw that the mark I had obtained in an ...</td>\n",
              "    </tr>\n",
              "    <tr>\n",
              "      <th>2</th>\n",
              "      <td>joy</td>\n",
              "      <td>When I learnt that I had been admitted to the ...</td>\n",
              "    </tr>\n",
              "    <tr>\n",
              "      <th>3</th>\n",
              "      <td>anger</td>\n",
              "      <td>In a hurry to get to lectures and the car woul...</td>\n",
              "    </tr>\n",
              "    <tr>\n",
              "      <th>4</th>\n",
              "      <td>guilt</td>\n",
              "      <td>Not attending school, when  am not sick - but ...</td>\n",
              "    </tr>\n",
              "  </tbody>\n",
              "</table>\n",
              "</div>"
            ],
            "text/plain": [
              "  Emotions                                               Text\n",
              "0      joy  My first feeling of falling in love.  Coming a...\n",
              "1      joy  When I saw that the mark I had obtained in an ...\n",
              "2      joy  When I learnt that I had been admitted to the ...\n",
              "3    anger  In a hurry to get to lectures and the car woul...\n",
              "4    guilt  Not attending school, when  am not sick - but ..."
            ]
          },
          "execution_count": 9,
          "metadata": {},
          "output_type": "execute_result"
        }
      ],
      "source": [
        "df.head ()"
      ]
    },
    {
      "cell_type": "code",
      "execution_count": 10,
      "metadata": {
        "id": "B1d3uUgTfS-8"
      },
      "outputs": [
        {
          "name": "stdout",
          "output_type": "stream",
          "text": [
            "1150\n"
          ]
        }
      ],
      "source": [
        "total_count = df['Emotions'].value_counts().sum()\n",
        "print (total_count)"
      ]
    },
    {
      "cell_type": "code",
      "execution_count": 11,
      "metadata": {
        "colab": {
          "base_uri": "https://localhost:8080/"
        },
        "id": "OGIwuydtf0jh",
        "outputId": "f48e5fa1-48ac-4dbb-c739-a51e8e330116"
      },
      "outputs": [
        {
          "data": {
            "text/plain": [
              "Emotions\n",
              "shame      182\n",
              "fear       168\n",
              "anger      166\n",
              "disgust    166\n",
              "sadness    161\n",
              "guilt      155\n",
              "joy        152\n",
              "Name: count, dtype: int64"
            ]
          },
          "execution_count": 11,
          "metadata": {},
          "output_type": "execute_result"
        }
      ],
      "source": [
        "df['Emotions'].value_counts()"
      ]
    },
    {
      "cell_type": "code",
      "execution_count": 19,
      "metadata": {},
      "outputs": [],
      "source": [
        "emotions_set = list (set (df['Emotions'].values))"
      ]
    },
    {
      "cell_type": "code",
      "execution_count": 20,
      "metadata": {},
      "outputs": [
        {
          "name": "stdout",
          "output_type": "stream",
          "text": [
            "                                                   Text Predicted_Emotion\n",
            "0     My first feeling of falling in love.  Coming a...           disgust\n",
            "1     When I saw that the mark I had obtained in an ...              fear\n",
            "2     When I learnt that I had been admitted to the ...           sadness\n",
            "3     In a hurry to get to lectures and the car woul...              fear\n",
            "4     Not attending school, when  am not sick - but ...             anger\n",
            "...                                                 ...               ...\n",
            "1145   Once I saw some children hunting a cat to death.               joy\n",
            "1146                     Being insulted by my roommate.           disgust\n",
            "1147  I had a habit of wetting my bed when I was you...              fear\n",
            "1148   When I was selected to the university of Zambia.             shame\n",
            "1149  When I learnt that I had been accepted at the ...               joy\n",
            "\n",
            "[1150 rows x 2 columns]\n"
          ]
        },
        {
          "data": {
            "text/plain": [
              "\"for text in df['Text']:\\n    df['Emotions'] = emotions_set.random ()\""
            ]
          },
          "execution_count": 20,
          "metadata": {},
          "output_type": "execute_result"
        }
      ],
      "source": [
        "def random_classifier():\n",
        "    return random.choice(emotions_set)\n",
        "\n",
        "df['Predicted_Emotion'] = df['Text'].apply(lambda x: random_classifier())\n",
        "\n",
        "print(df[['Text', 'Predicted_Emotion']])"
      ]
    },
    {
      "cell_type": "code",
      "execution_count": null,
      "metadata": {},
      "outputs": [],
      "source": [
        "df_subset = df[['Text', 'Predicted_Emotion']]\n",
        "\n",
        "excel_file_path = \"dummy_classifier.xlsx\"\n",
        "df_subset.to_excel(excel_file_path, index=False)"
      ]
    }
  ],
  "metadata": {
    "accelerator": "GPU",
    "colab": {
      "gpuType": "T4",
      "provenance": []
    },
    "kernelspec": {
      "display_name": "Python 3",
      "name": "python3"
    },
    "language_info": {
      "codemirror_mode": {
        "name": "ipython",
        "version": 3
      },
      "file_extension": ".py",
      "mimetype": "text/x-python",
      "name": "python",
      "nbconvert_exporter": "python",
      "pygments_lexer": "ipython3",
      "version": "3.10.13"
    }
  },
  "nbformat": 4,
  "nbformat_minor": 0
}
