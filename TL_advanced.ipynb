{
  "cells": [
    {
      "cell_type": "code",
      "execution_count": 1,
      "metadata": {
        "id": "SQgYNX8hfFqP"
      },
      "outputs": [],
      "source": [
        "import pandas as pd\n",
        "import numpy as np\n",
        "from transformers import RobertaTokenizer, RobertaModel\n",
        "import torch\n",
        "import matplotlib.pyplot as plt\n"
      ]
    },
    {
      "cell_type": "code",
      "execution_count": 2,
      "metadata": {},
      "outputs": [],
      "source": [
        "#Loading the training file\n",
        "file_path = '/Users/diana/Desktop/isear-train.xlsx'\n",
        "custom_headers = ['Emotions', 'Text']\n",
        "df = pd.read_excel(file_path, skiprows=1, header=None, names=custom_headers)"
      ]
    },
    {
      "cell_type": "code",
      "execution_count": 3,
      "metadata": {},
      "outputs": [
        {
          "name": "stdout",
          "output_type": "stream",
          "text": [
            "Encoded labels: ['sadness' 'disgust' 'fear' ... 'sadness' 'disgust' 'fear'] [5 1 2 6 0 6 1 4 6 4 1 0 0 4 2 4 6 2 1 5]\n"
          ]
        }
      ],
      "source": [
        "label_encoding = {'anger': 0, 'disgust': 1, 'fear': 2, 'guilt': 3, 'joy': 4, 'sadness': 5, 'shame': 6}\n",
        "y = df['Emotions'].values\n",
        "y_train_encoded = np.array([label_encoding[label] for label in y])\n",
        "print(\"Encoded labels:\", y, y_train_encoded[:20])"
      ]
    },
    {
      "cell_type": "code",
      "execution_count": 4,
      "metadata": {},
      "outputs": [],
      "source": [
        "#conda install torch transformers openpyxl\n",
        "    \n"
      ]
    },
    {
      "cell_type": "code",
      "execution_count": 5,
      "metadata": {},
      "outputs": [
        {
          "name": "stdout",
          "output_type": "stream",
          "text": [
            "Requirement already satisfied: torch in /Users/diana/miniconda3/envs/newenv/lib/python3.10/site-packages (1.13.1)\n",
            "Requirement already satisfied: typing-extensions in /Users/diana/miniconda3/envs/newenv/lib/python3.10/site-packages (from torch) (4.9.0)\n",
            "Note: you may need to restart the kernel to use updated packages.\n"
          ]
        }
      ],
      "source": [
        "pip  install torch"
      ]
    },
    {
      "cell_type": "code",
      "execution_count": 6,
      "metadata": {},
      "outputs": [
        {
          "name": "stdout",
          "output_type": "stream",
          "text": [
            "<class 'pandas.core.series.Series'>\n"
          ]
        }
      ],
      "source": [
        "print (type(df['Text']))\n",
        "strings = []\n",
        "for index, sentence in enumerate(df['Text']):\n",
        "    emotion_label = df['Emotions'][index]\n",
        "    strings.append (sentence)\n",
        "#print (strings[0:3])"
      ]
    },
    {
      "cell_type": "code",
      "execution_count": 99,
      "metadata": {},
      "outputs": [],
      "source": [
        "#Creating BERT embeddings for the TRAINSET\n",
        "bert_model = RobertaModel.from_pretrained('roberta-base', output_hidden_states=True)\n",
        "tokenizer = RobertaTokenizer.from_pretrained('roberta-base')\n",
        "\n",
        "\n",
        "device = torch.device(\"cuda\" if torch.cuda.is_available() else \"cpu\")\n",
        "\n",
        "#tokenizer = BertTokenizer.from_pretrained('bert-base-uncased')\n",
        "#model = BertModel.from_pretrained('bert-base-uncased').to(device)\n",
        "\n",
        "def get_sentence_embeddings(text_list, batch_size=32):\n",
        "    all_embeddings = []\n",
        "\n",
        "    # Process each sublist separately\n",
        "    for i in range(0, len(text_list), batch_size):\n",
        "        batch = text_list[i:i + batch_size]\n",
        "        #print(f\"Processing batch from index {i} to {i + len(batch)}\")\n",
        "        inputs = tokenizer(batch, return_tensors=\"pt\", padding=True, truncation=True, max_length=512).to(device)\n",
        "        \n",
        "        with torch.no_grad():\n",
        "            outputs = bert_model(**inputs)\n",
        "\n",
        "        # Extract the hidden state of the CLS token (first token)\n",
        "        cls_embeddings = outputs.hidden_states[-1][:, 0, :]  # the last layer's CLS token state\n",
        "        all_embeddings.append(cls_embeddings)  \n",
        "\n",
        "    # Concatenate all batch embeddings\n",
        "    sentence_embeddings = torch.cat(all_embeddings, dim=0)\n",
        "    \n",
        "    return sentence_embeddings\n",
        "\n",
        "# Example usage with strings_dev\n",
        "# sentence_embeddings_dev = get_sentence_embeddings(strings_dev)\n",
        "# print(\"Sentence embeddings shape:\", sentence_embeddings_dev.shape)"
      ]
    },
    {
      "cell_type": "code",
      "execution_count": 8,
      "metadata": {},
      "outputs": [],
      "source": [
        "#sentence_embeddings = '/Users/diana/Desktop/TL/sentence_embeddings.pt'\n",
        "#sentence_embeddings = torch.load(sentence_embeddings)\n",
        "sentence_embeddings = get_sentence_embeddings(strings)\n",
        "\n"
      ]
    },
    {
      "cell_type": "code",
      "execution_count": 9,
      "metadata": {},
      "outputs": [],
      "source": [
        "sentence_embeddings_roberta = '/Users/diana/Desktop/TL/ROBERTA_sentence_embeddings.pt'\n"
      ]
    },
    {
      "cell_type": "code",
      "execution_count": 10,
      "metadata": {},
      "outputs": [
        {
          "name": "stdout",
          "output_type": "stream",
          "text": [
            "torch.Size([5366, 768])\n"
          ]
        }
      ],
      "source": [
        "print (sentence_embeddings.shape)"
      ]
    },
    {
      "cell_type": "code",
      "execution_count": 28,
      "metadata": {},
      "outputs": [
        {
          "name": "stdout",
          "output_type": "stream",
          "text": [
            "<class 'pandas.core.series.Series'>\n",
            "['[ Laziness makes one sad.]', 'I had to leave my girlfriend for 4 weeks because of my studies. This happens frequently. The last 24 hours before my departure are always very depressing.', 'I promised to join a meeting but did not turn up as I did not want to do the work.']\n"
          ]
        }
      ],
      "source": [
        "#Devset BERT\n",
        "file_path_dev = '/Users/diana/Desktop/isear-validation.xlsx'\n",
        "custom_headers_dev = ['Emotions_dev', 'Text_dev']\n",
        "df_dev = pd.read_excel(file_path_dev, skiprows=1, header=None, names=custom_headers_dev)\n",
        "\n",
        "print (type(df_dev['Text_dev']))\n",
        "strings_dev = []\n",
        "for index, sentence in enumerate(df_dev['Text_dev']):\n",
        "    emotion_label_dev = df_dev['Emotions_dev'][index]\n",
        "    strings_dev.append (sentence)\n",
        "print (strings_dev[0:3])\n",
        "\n",
        "\n",
        "y_dev = df_dev['Emotions_dev'].values\n",
        "y_dev_encoded = np.array([label_encoding[label] for label in y_dev])\n",
        "y_dev_tensor = torch.tensor (y_dev_encoded)\n",
        "#print (len (strings_dev))\n",
        "#print (y_dev_tensor.shape)\n"
      ]
    },
    {
      "cell_type": "code",
      "execution_count": 30,
      "metadata": {},
      "outputs": [
        {
          "name": "stdout",
          "output_type": "stream",
          "text": [
            "['My first feeling of falling in love.  Coming across a person who made me feel love, happiness, joy, giving me a new and beautiful future, who made me dream.', 'When I saw that the mark I had obtained in an exam was a good one.', 'When I learnt that I had been admitted to the university.']\n",
            "['My first feeling of falling in love.  Coming across a person who made me feel love, happiness, joy, giving me a new and beautiful future, who made me dream.', 'When I saw that the mark I had obtained in an exam was a good one.', 'When I learnt that I had been admitted to the university.']\n",
            "1150\n"
          ]
        }
      ],
      "source": [
        "#Testset roberta\n",
        "file_path_test = '/Users/diana/Desktop/isear-test.xlsx'\n",
        "custom_headers_test = ['Emotions_test', 'Text_test']\n",
        "df_test = pd.read_excel(file_path_test, skiprows=1, header=None, names=custom_headers_test)\n",
        "\n",
        "\n",
        "strings_test = []\n",
        "for index, sentence in enumerate(df_test['Text_test']):\n",
        "    emotion_label_test = df_test['Emotions_test'][index]\n",
        "    strings_test.append (sentence)\n",
        "print (strings_test[0:3])\n",
        "\n",
        "\n",
        "strings_test = df_test['Text_test'].tolist()\n",
        "print (strings_test[0:3])\n",
        "#print (strings_test)\n",
        "\n",
        "y_test = df_test['Emotions_test'].values\n",
        "y_test_encoded = np.array([label_encoding[label] for label in y_test])\n",
        "y_test_encoded = torch.tensor (y_test_encoded)\n",
        "print (len (df_test['Text_test']))\n",
        "\n"
      ]
    },
    {
      "cell_type": "code",
      "execution_count": 13,
      "metadata": {},
      "outputs": [
        {
          "name": "stdout",
          "output_type": "stream",
          "text": [
            "Sentence embeddings shape: torch.Size([1150, 768])\n"
          ]
        }
      ],
      "source": [
        "#devset embeddings\n",
        "sentence_embeddings_dev = get_sentence_embeddings(strings_dev)\n",
        "# Print the shape of the embeddings\n",
        "print(\"Sentence embeddings shape:\", sentence_embeddings_dev.shape)"
      ]
    },
    {
      "cell_type": "code",
      "execution_count": 31,
      "metadata": {},
      "outputs": [
        {
          "name": "stdout",
          "output_type": "stream",
          "text": [
            "Sentence embeddings shape: torch.Size([1150, 768])\n"
          ]
        }
      ],
      "source": [
        "#testset\n",
        "sentence_embeddings_test = get_sentence_embeddings(strings_test)\n",
        "print(\"Sentence embeddings shape:\", sentence_embeddings_test.shape)"
      ]
    },
    {
      "cell_type": "code",
      "execution_count": null,
      "metadata": {},
      "outputs": [],
      "source": [
        "\"\"\"torch.save(sentence_embeddings, \"sentence_embeddings.pt\")\n",
        "# To load the embeddings later\n",
        "loaded_embeddings = torch.load(\"sentence_embeddings.pt\")\"\"\""
      ]
    },
    {
      "cell_type": "code",
      "execution_count": 32,
      "metadata": {},
      "outputs": [
        {
          "name": "stdout",
          "output_type": "stream",
          "text": [
            "<class 'torch.Tensor'>\n",
            "torch.Size([1150]) torch.Size([1150]) torch.Size([5366])\n"
          ]
        },
        {
          "name": "stderr",
          "output_type": "stream",
          "text": [
            "/var/folders/mh/2g8pjxqx2dldlw8dltkfmgvm0000gn/T/ipykernel_71845/1177048907.py:3: UserWarning: To copy construct from a tensor, it is recommended to use sourceTensor.clone().detach() or sourceTensor.clone().detach().requires_grad_(True), rather than torch.tensor(sourceTensor).\n",
            "  y_test_tensor = torch.tensor(y_test_encoded)\n"
          ]
        }
      ],
      "source": [
        "print (type (sentence_embeddings))\n",
        "y_train_tensor = torch.tensor(y_train_encoded)\n",
        "y_test_tensor = torch.tensor(y_test_encoded)\n",
        "print (y_dev_tensor.shape, y_test_tensor.shape,y_train_tensor.shape ) "
      ]
    },
    {
      "cell_type": "code",
      "execution_count": null,
      "metadata": {},
      "outputs": [
        {
          "name": "stderr",
          "output_type": "stream",
          "text": [
            "/var/folders/mh/2g8pjxqx2dldlw8dltkfmgvm0000gn/T/ipykernel_17949/3224357459.py:8: UserWarning: To copy construct from a tensor, it is recommended to use sourceTensor.clone().detach() or sourceTensor.clone().detach().requires_grad_(True), rather than torch.tensor(sourceTensor).\n",
            "  embeddings = torch.tensor(sentence_embeddings, dtype=torch.float32).to(device)\n",
            "/var/folders/mh/2g8pjxqx2dldlw8dltkfmgvm0000gn/T/ipykernel_17949/3224357459.py:9: UserWarning: To copy construct from a tensor, it is recommended to use sourceTensor.clone().detach() or sourceTensor.clone().detach().requires_grad_(True), rather than torch.tensor(sourceTensor).\n",
            "  labels = torch.tensor(y_train_tensor, dtype=torch.long).to(device)\n",
            "/var/folders/mh/2g8pjxqx2dldlw8dltkfmgvm0000gn/T/ipykernel_17949/3224357459.py:11: UserWarning: To copy construct from a tensor, it is recommended to use sourceTensor.clone().detach() or sourceTensor.clone().detach().requires_grad_(True), rather than torch.tensor(sourceTensor).\n",
            "  embeddings_dev = torch.tensor(sentence_embeddings_dev, dtype=torch.float32)\n",
            "/var/folders/mh/2g8pjxqx2dldlw8dltkfmgvm0000gn/T/ipykernel_17949/3224357459.py:14: UserWarning: To copy construct from a tensor, it is recommended to use sourceTensor.clone().detach() or sourceTensor.clone().detach().requires_grad_(True), rather than torch.tensor(sourceTensor).\n",
            "  embeddings_test = torch.tensor(augmented_embeddings, dtype=torch.float32)\n",
            "/var/folders/mh/2g8pjxqx2dldlw8dltkfmgvm0000gn/T/ipykernel_17949/3224357459.py:15: UserWarning: To copy construct from a tensor, it is recommended to use sourceTensor.clone().detach() or sourceTensor.clone().detach().requires_grad_(True), rather than torch.tensor(sourceTensor).\n",
            "  labels_test = torch.tensor(y_test_tensor, dtype=torch.long)\n"
          ]
        }
      ],
      "source": []
    },
    {
      "cell_type": "code",
      "execution_count": 33,
      "metadata": {},
      "outputs": [
        {
          "name": "stdout",
          "output_type": "stream",
          "text": [
            "769\n"
          ]
        },
        {
          "name": "stderr",
          "output_type": "stream",
          "text": [
            "/var/folders/mh/2g8pjxqx2dldlw8dltkfmgvm0000gn/T/ipykernel_71845/1446272206.py:26: UserWarning: To copy construct from a tensor, it is recommended to use sourceTensor.clone().detach() or sourceTensor.clone().detach().requires_grad_(True), rather than torch.tensor(sourceTensor).\n",
            "  embeddings_train = torch.tensor(sentence_embeddings, dtype=torch.float32).to(device)\n",
            "/var/folders/mh/2g8pjxqx2dldlw8dltkfmgvm0000gn/T/ipykernel_71845/1446272206.py:27: UserWarning: To copy construct from a tensor, it is recommended to use sourceTensor.clone().detach() or sourceTensor.clone().detach().requires_grad_(True), rather than torch.tensor(sourceTensor).\n",
            "  embeddings_test = torch.tensor(sentence_embeddings_test, dtype=torch.float32).to(device)\n",
            "/var/folders/mh/2g8pjxqx2dldlw8dltkfmgvm0000gn/T/ipykernel_71845/1446272206.py:28: UserWarning: To copy construct from a tensor, it is recommended to use sourceTensor.clone().detach() or sourceTensor.clone().detach().requires_grad_(True), rather than torch.tensor(sourceTensor).\n",
            "  embeddings_dev = torch.tensor(sentence_embeddings_dev, dtype=torch.float32).to(device)\n",
            "/var/folders/mh/2g8pjxqx2dldlw8dltkfmgvm0000gn/T/ipykernel_71845/1446272206.py:37: UserWarning: To copy construct from a tensor, it is recommended to use sourceTensor.clone().detach() or sourceTensor.clone().detach().requires_grad_(True), rather than torch.tensor(sourceTensor).\n",
            "  embeddings_test = torch.tensor(sentence_embeddings_test, dtype=torch.float32).to(device)\n",
            "/var/folders/mh/2g8pjxqx2dldlw8dltkfmgvm0000gn/T/ipykernel_71845/1446272206.py:38: UserWarning: To copy construct from a tensor, it is recommended to use sourceTensor.clone().detach() or sourceTensor.clone().detach().requires_grad_(True), rather than torch.tensor(sourceTensor).\n",
            "  embeddings_dev = torch.tensor(sentence_embeddings_dev, dtype=torch.float32).to(device)\n"
          ]
        }
      ],
      "source": [
        "import torch\n",
        "from nltk.tokenize import word_tokenize\n",
        "\n",
        "\n",
        "# List of unique disgust words identified earlier\n",
        "unique_disgust_words = ['prostitute', 'detested', 'disgusting', 'disgusted', 'disgust', 'vomit', 'rotten', 'stink', 'spider', 'contempt', 'drunk']\n",
        "\n",
        "# Function to check if any of the disgust words are in the text\n",
        "def disgust_words(text, disgust_words):\n",
        "    tokens = word_tokenize(text.lower())\n",
        "    \"\"\"if any(word in tokens for word in disgust_words):\n",
        "        print (\"yes\")\"\"\"\n",
        "    return int(any(word in tokens for word in disgust_words))\n",
        "\n",
        "# Apply the function to create the disgust feature\n",
        "df['disgust_feature_train'] = df['Text'].apply(lambda x: disgust_words(x, unique_disgust_words))\n",
        "df_test['disgust_feature_test'] = df_test['Text_test'].apply(lambda x: disgust_words(x, unique_disgust_words))\n",
        "df_dev['disgust_feature_dev'] = df_dev['Text_dev'].apply(lambda x: disgust_words(x, unique_disgust_words))\n",
        "\n",
        "# Extract the binary disgust feature as a numpy array and convert to tensor\n",
        "disgust_features_train = torch.tensor(df['disgust_feature_train'].values, dtype=torch.float32).reshape(-1, 1)\n",
        "disgust_features_test = torch.tensor(df_test['disgust_feature_test'].values, dtype=torch.float32).reshape(-1, 1)\n",
        "disgust_features_dev = torch.tensor(df_dev['disgust_feature_dev'].values, dtype=torch.float32).reshape(-1, 1)\n",
        "\n",
        "# Assuming embeddings are your BERT embeddings tensors\n",
        "embeddings_train = torch.tensor(sentence_embeddings, dtype=torch.float32).to(device)\n",
        "embeddings_test = torch.tensor(sentence_embeddings_test, dtype=torch.float32).to(device)\n",
        "embeddings_dev = torch.tensor(sentence_embeddings_dev, dtype=torch.float32).to(device)\n",
        "\n",
        "# Ensure the lengths match before concatenation\n",
        "assert embeddings_train.shape[0] == disgust_features_train.shape[0], \"Train set sizes do not match\"\n",
        "assert embeddings_test.shape[0] == disgust_features_test.shape[0], \"Test set sizes do not match\"\n",
        "assert embeddings_dev.shape[0] == disgust_features_dev.shape[0], \"Dev set sizes do not match\"\n",
        "\n",
        "# Concatenate the BERT embeddings with the disgust feature\n",
        "augmented_embeddings_train = torch.cat((embeddings_train, disgust_features_train), dim=1)\n",
        "embeddings_test = torch.tensor(sentence_embeddings_test, dtype=torch.float32).to(device)\n",
        "embeddings_dev = torch.tensor(sentence_embeddings_dev, dtype=torch.float32).to(device)\n",
        "\n",
        "# Ensure the lengths match before concatenation\n",
        "assert embeddings_train.shape[0] == disgust_features_train.shape[0], \"Train set sizes do not match\"\n",
        "assert embeddings_test.shape[0] == disgust_features_test.shape[0], \"Test set sizes do not match\"\n",
        "assert embeddings_dev.shape[0] == disgust_features_dev.shape[0], \"Dev set sizes do not match\"\n",
        "\n",
        "# Concatenate the BERT embeddings with the disgust feature\n",
        "augmented_embeddings_train = torch.cat((embeddings_train, disgust_features_train), dim=1)\n",
        "augmented_embeddings_test = torch.cat((embeddings_test, disgust_features_test), dim=1)\n",
        "augmented_embeddings_dev = torch.cat((embeddings_dev, disgust_features_dev), dim=1)\n",
        "\n",
        "print (augmented_embeddings_train.shape[1])"
      ]
    },
    {
      "cell_type": "code",
      "execution_count": 34,
      "metadata": {},
      "outputs": [
        {
          "name": "stdout",
          "output_type": "stream",
          "text": [
            "770\n"
          ]
        }
      ],
      "source": [
        "# List of unique anger words identified earlier\n",
        "unique_anger_words = ['anger', 'angry', 'rage', 'wrath', 'furious', 'enraged', 'irritated', 'kick', 'abuse']\n",
        "\n",
        "# Function to check if any of the disgust words are in the text\n",
        "def anger_words(text, anger_words):\n",
        "    tokens = word_tokenize(text.lower())\n",
        "    \"\"\"if any(word in tokens for word in anger_words):\n",
        "        print (\"yes\")\"\"\"\n",
        "    return int(any(word in tokens for word in anger_words))\n",
        "\n",
        "# Apply the function to create the disgust feature\n",
        "df['anger_feature_train'] = df['Text'].apply(lambda x: anger_words(x, unique_anger_words))\n",
        "df_test['anger_feature_test'] = df_test['Text_test'].apply(lambda x: anger_words(x, unique_anger_words))\n",
        "df_dev['anger_feature_dev'] = df_dev['Text_dev'].apply(lambda x: anger_words(x, unique_anger_words))\n",
        "\n",
        "# Extract the binary disgust feature as a numpy array and convert to tensor\n",
        "anger_features_train = torch.tensor(df['anger_feature_train'].values, dtype=torch.float32).reshape(-1, 1)\n",
        "anger_features_test = torch.tensor(df_test['anger_feature_test'].values, dtype=torch.float32).reshape(-1, 1)\n",
        "anger_features_dev = torch.tensor(df_dev['anger_feature_dev'].values, dtype=torch.float32).reshape(-1, 1)\n",
        "\n",
        "\n",
        "# Ensure the lengths match before concatenation\n",
        "assert embeddings_train.shape[0] == anger_features_train.shape[0], \"Train set sizes do not match\"\n",
        "assert embeddings_test.shape[0] == anger_features_test.shape[0], \"Test set sizes do not match\"\n",
        "assert embeddings_dev.shape[0] == anger_features_dev.shape[0], \"Dev set sizes do not match\"\n",
        "\n",
        "# Concatenate the BERT embeddings with the anger feature\n",
        "augmented_embeddings_train_a = torch.cat((augmented_embeddings_train, anger_features_train), dim=1)\n",
        "augmented_embeddings_test_a = torch.cat((augmented_embeddings_test, anger_features_test), dim=1)\n",
        "augmented_embeddings_dev_a = torch.cat((augmented_embeddings_dev, anger_features_dev), dim=1)\n",
        "\n",
        "print (augmented_embeddings_train_a.shape[1])"
      ]
    },
    {
      "cell_type": "code",
      "execution_count": 35,
      "metadata": {},
      "outputs": [
        {
          "name": "stdout",
          "output_type": "stream",
          "text": [
            "771\n"
          ]
        }
      ],
      "source": [
        "# List of unique anger words identified earlier\n",
        "unique_shame_words = ['ashamed', 'embarrassed', 'humiliated', 'shame', 'regret', 'disgrace', 'dishonor', 'reject']\n",
        "\n",
        "# Function to check if any of the disgust words are in the text\n",
        "def shame_words(text, shame_words):\n",
        "    tokens = word_tokenize(text.lower())\n",
        "    \"\"\"if any(word in tokens for word in shame_words):\n",
        "        print (\"yes\")\"\"\"\n",
        "    return int(any(word in tokens for word in shame_words))\n",
        "\n",
        "# Apply the function to create the disgust feature\n",
        "df['shame_feature_train'] = df['Text'].apply(lambda x: shame_words(x, unique_shame_words))\n",
        "df_test['shame_feature_test'] = df_test['Text_test'].apply(lambda x: shame_words(x, unique_shame_words))\n",
        "df_dev['shame_feature_dev'] = df_dev['Text_dev'].apply(lambda x: shame_words(x, unique_shame_words))\n",
        "\n",
        "# Extract the binary disgust feature as a numpy array and convert to tensor\n",
        "shame_features_train = torch.tensor(df['shame_feature_train'].values, dtype=torch.float32).reshape(-1, 1)\n",
        "shame_features_test = torch.tensor(df_test['shame_feature_test'].values, dtype=torch.float32).reshape(-1, 1)\n",
        "shame_features_dev = torch.tensor(df_dev['shame_feature_dev'].values, dtype=torch.float32).reshape(-1, 1)\n",
        "\n",
        "\n",
        "# Ensure the lengths match before concatenation\n",
        "assert embeddings_train.shape[0] == shame_features_train.shape[0], \"Train set sizes do not match\"\n",
        "assert embeddings_test.shape[0] == shame_features_test.shape[0], \"Test set sizes do not match\"\n",
        "assert embeddings_dev.shape[0] == shame_features_dev.shape[0], \"Dev set sizes do not match\"\n",
        "\n",
        "# Concatenate the BERT embeddings with the anger feature\n",
        "augmented_embeddings_train_shame = torch.cat((augmented_embeddings_train_a, shame_features_train), dim=1)\n",
        "augmented_embeddings_test_shame= torch.cat((augmented_embeddings_test_a, shame_features_test), dim=1)\n",
        "augmented_embeddings_dev_shame = torch.cat((augmented_embeddings_dev_a, shame_features_dev), dim=1)\n",
        "\n",
        "print (augmented_embeddings_train_shame.shape[1])"
      ]
    },
    {
      "cell_type": "code",
      "execution_count": 37,
      "metadata": {},
      "outputs": [
        {
          "name": "stdout",
          "output_type": "stream",
          "text": [
            "772\n",
            "772\n",
            "772\n"
          ]
        }
      ],
      "source": [
        "# List of unique fear words identified earlier\n",
        "unique_fear_words = ['afraid', 'fear', 'panic', 'scare', 'worry', 'anxious', 'frighten', 'dark']\n",
        "\n",
        "# Function to check if any of the disgust words are in the text\n",
        "def fear_words(text, fear_words):\n",
        "    tokens = word_tokenize(text.lower())\n",
        "    \"\"\"if any(word in tokens for word in shame_words):\n",
        "        print (\"yes\")\"\"\"\n",
        "    return int(any(word in tokens for word in fear_words))\n",
        "\n",
        "# Apply the function to create the disgust feature\n",
        "df['fear_feature_train'] = df['Text'].apply(lambda x: fear_words(x, unique_fear_words))\n",
        "df_test['fear_feature_test'] = df_test['Text_test'].apply(lambda x: fear_words(x, unique_fear_words))\n",
        "df_dev['fear_feature_dev'] = df_dev['Text_dev'].apply(lambda x: fear_words(x, unique_fear_words))\n",
        "\n",
        "# Extract the binary disgust feature as a numpy array and convert to tensor\n",
        "fear_features_train = torch.tensor(df['fear_feature_train'].values, dtype=torch.float32).reshape(-1, 1)\n",
        "fear_features_test = torch.tensor(df_test['fear_feature_test'].values, dtype=torch.float32).reshape(-1, 1)\n",
        "fear_features_dev = torch.tensor(df_dev['fear_feature_dev'].values, dtype=torch.float32).reshape(-1, 1)\n",
        "\n",
        "\n",
        "# Ensure the lengths match before concatenation\n",
        "assert embeddings_train.shape[0] == fear_features_train.shape[0], \"Train set sizes do not match\"\n",
        "assert embeddings_test.shape[0] == fear_features_test.shape[0], \"Test set sizes do not match\"\n",
        "assert embeddings_dev.shape[0] == fear_features_dev.shape[0], \"Dev set sizes do not match\"\n",
        "\n",
        "# Concatenate the BERT embeddings with the anger feature\n",
        "augmented_embeddings_train_fear = torch.cat((augmented_embeddings_train_shame, fear_features_train), dim=1)\n",
        "augmented_embeddings_test_fear= torch.cat((augmented_embeddings_test_shame, fear_features_test), dim=1)\n",
        "augmented_embeddings_dev_fear = torch.cat((augmented_embeddings_dev_shame, fear_features_dev), dim=1)\n",
        "\n",
        "print (augmented_embeddings_train_fear.shape[1])\n",
        "print (augmented_embeddings_test_fear.shape[1])\n",
        "print (augmented_embeddings_dev_fear.shape[1])"
      ]
    },
    {
      "cell_type": "code",
      "execution_count": 38,
      "metadata": {},
      "outputs": [
        {
          "name": "stderr",
          "output_type": "stream",
          "text": [
            "/var/folders/mh/2g8pjxqx2dldlw8dltkfmgvm0000gn/T/ipykernel_71845/3827846616.py:8: UserWarning: To copy construct from a tensor, it is recommended to use sourceTensor.clone().detach() or sourceTensor.clone().detach().requires_grad_(True), rather than torch.tensor(sourceTensor).\n",
            "  embeddings = torch.tensor(augmented_embeddings_train_fear, dtype=torch.float32).to(device)\n",
            "/var/folders/mh/2g8pjxqx2dldlw8dltkfmgvm0000gn/T/ipykernel_71845/3827846616.py:9: UserWarning: To copy construct from a tensor, it is recommended to use sourceTensor.clone().detach() or sourceTensor.clone().detach().requires_grad_(True), rather than torch.tensor(sourceTensor).\n",
            "  labels = torch.tensor(y_train_tensor, dtype=torch.long).to(device)\n",
            "/var/folders/mh/2g8pjxqx2dldlw8dltkfmgvm0000gn/T/ipykernel_71845/3827846616.py:11: UserWarning: To copy construct from a tensor, it is recommended to use sourceTensor.clone().detach() or sourceTensor.clone().detach().requires_grad_(True), rather than torch.tensor(sourceTensor).\n",
            "  embeddings_dev = torch.tensor(augmented_embeddings_dev_fear, dtype=torch.float32)\n",
            "/var/folders/mh/2g8pjxqx2dldlw8dltkfmgvm0000gn/T/ipykernel_71845/3827846616.py:14: UserWarning: To copy construct from a tensor, it is recommended to use sourceTensor.clone().detach() or sourceTensor.clone().detach().requires_grad_(True), rather than torch.tensor(sourceTensor).\n",
            "  embeddings_test = torch.tensor(augmented_embeddings_test_fear, dtype=torch.float32)\n",
            "/var/folders/mh/2g8pjxqx2dldlw8dltkfmgvm0000gn/T/ipykernel_71845/3827846616.py:15: UserWarning: To copy construct from a tensor, it is recommended to use sourceTensor.clone().detach() or sourceTensor.clone().detach().requires_grad_(True), rather than torch.tensor(sourceTensor).\n",
            "  labels_test = torch.tensor(y_test_tensor, dtype=torch.long)\n"
          ]
        }
      ],
      "source": [
        "import torch.nn as nn\n",
        "import torch.optim as optim\n",
        "from torch.utils.data import DataLoader, TensorDataset\n",
        "import torch.nn.init as init\n",
        "\n",
        "\n",
        "# Convert to PyTorch tensors\n",
        "embeddings = torch.tensor(augmented_embeddings_train_fear, dtype=torch.float32).to(device)\n",
        "labels = torch.tensor(y_train_tensor, dtype=torch.long).to(device)\n",
        "\n",
        "embeddings_dev = torch.tensor(augmented_embeddings_dev_fear, dtype=torch.float32)\n",
        "labels_dev = torch.tensor(y_dev_encoded, dtype=torch.long)\n",
        "\n",
        "embeddings_test = torch.tensor(augmented_embeddings_test_fear, dtype=torch.float32)\n",
        "labels_test = torch.tensor(y_test_tensor, dtype=torch.long)\n",
        "\n",
        "# Create a dataset and dataloader\n",
        "dataset = TensorDataset(embeddings, labels)\n",
        "dataset_dev = TensorDataset(embeddings_dev,labels_dev)\n",
        "dataset_test = TensorDataset(embeddings_test,labels_test)\n",
        "\n",
        "\n",
        "train_loader = DataLoader(dataset, batch_size=32, shuffle=True)\n",
        "val_loader = DataLoader(dataset_dev, batch_size=32, shuffle=False)\n",
        "test_loader = DataLoader(dataset_test, batch_size=32, shuffle=False)\n",
        "\n",
        "import torch.nn.init as init\n",
        "\n",
        "\n",
        "class SimpleNN(nn.Module):\n",
        "    def __init__(self, input_dim, hidden_dim1, output_dim):\n",
        "        super(SimpleNN, self).__init__()\n",
        "        self.fc1 = nn.Linear(input_dim, hidden_dim1)\n",
        "        self.bn1 = nn.BatchNorm1d(hidden_dim1)\n",
        "        self.relu1 = nn.LeakyReLU()\n",
        "        self.dropout1 = nn.Dropout(0.3)\n",
        "        self.fc2 = nn.Linear(hidden_dim1, hidden_dim2)\n",
        "        self.bn2 = nn.BatchNorm1d(hidden_dim2)\n",
        "        self.relu2 = nn.LeakyReLU()\n",
        "        self.dropout2 = nn.Dropout(0.3)\n",
        "        self.fc3 = nn.Linear(hidden_dim2, hidden_dim3)\n",
        "        self.bn3 = nn.BatchNorm1d(hidden_dim3)\n",
        "        self.relu3 = nn.LeakyReLU()\n",
        "        self.dropout3 = nn.Dropout(0.3)  # Adjusted dropout rate\n",
        "\n",
        "        self.fc4 = nn.Linear(hidden_dim3, output_dim)\n",
        "\n",
        "\n",
        "        self.init_weights()\n",
        "\n",
        "    def init_weights(self):\n",
        "        init.kaiming_uniform_(self.fc1.weight, nonlinearity='leaky_relu')\n",
        "        init.constant_(self.fc1.bias, 0)\n",
        "        init.kaiming_uniform_(self.fc2.weight, nonlinearity='leaky_relu')\n",
        "        init.constant_(self.fc2.bias, 0)\n",
        "        init.kaiming_uniform_(self.fc3.weight, nonlinearity='leaky_relu')\n",
        "        init.constant_(self.fc3.bias, 0)\n",
        "        init.kaiming_uniform_(self.fc4.weight, nonlinearity='leaky_relu')\n",
        "        init.constant_(self.fc4.bias, 0)\n",
        "\n",
        "    \n",
        "    def forward(self, x):\n",
        "        x = self.fc1(x)\n",
        "        x = self.bn1(x)\n",
        "        x = self.relu1(x)\n",
        "        x = self.dropout1(x)\n",
        "        x = self.fc2(x)\n",
        "        x = self.bn2(x)\n",
        "        x = self.relu2(x)\n",
        "        x = self.dropout2(x)\n",
        "        x = self.fc3(x)\n",
        "        x = self.bn3(x)\n",
        "        x = self.relu3(x)\n",
        "        x = self.dropout3(x)\n",
        "\n",
        "        x = self.fc4(x)\n",
        "        return x\n",
        "\n",
        "input_dim = sentence_embeddings.shape[1] + 3 + 1 # 768 + 2\n",
        "hidden_dim1 = 568  \n",
        "hidden_dim2 = 16   \n",
        "hidden_dim3 = 568   \n",
        "output_dim = 7"
      ]
    },
    {
      "cell_type": "code",
      "execution_count": 81,
      "metadata": {},
      "outputs": [],
      "source": [
        "simp_model = SimpleNN(input_dim, hidden_dim1, output_dim).to(device)\n",
        "lossf = nn.CrossEntropyLoss()\n",
        "optimizer = optim.AdamW (simp_model.parameters(), lr=0.001, weight_decay=1e-10) # L2 regularization #0.0008\n",
        "scheduler = optim.lr_scheduler.ReduceLROnPlateau(optimizer, mode='min', factor=0.1, patience=5)\n"
      ]
    },
    {
      "cell_type": "code",
      "execution_count": 94,
      "metadata": {},
      "outputs": [
        {
          "name": "stdout",
          "output_type": "stream",
          "text": [
            "Epoch [1/24], Train Loss: 0.4964, Val Loss: 1.0492, Test Loss: 1.0507\n",
            "Epoch [2/24], Train Loss: 0.4971, Val Loss: 1.0525, Test Loss: 1.0537\n",
            "Epoch [3/24], Train Loss: 0.4976, Val Loss: 1.0536, Test Loss: 1.0538\n",
            "Epoch [4/24], Train Loss: 0.4989, Val Loss: 1.0613, Test Loss: 1.0642\n",
            "Epoch [5/24], Train Loss: 0.4831, Val Loss: 1.0405, Test Loss: 1.0463\n",
            "Epoch [6/24], Train Loss: 0.4995, Val Loss: 1.0833, Test Loss: 1.0804\n",
            "Epoch [7/24], Train Loss: 0.4820, Val Loss: 1.0503, Test Loss: 1.0565\n",
            "Epoch [8/24], Train Loss: 0.5009, Val Loss: 1.0564, Test Loss: 1.0694\n",
            "Epoch [9/24], Train Loss: 0.4879, Val Loss: 1.0374, Test Loss: 1.0482\n",
            "Epoch [10/24], Train Loss: 0.4876, Val Loss: 1.0501, Test Loss: 1.0581\n",
            "Epoch [11/24], Train Loss: 0.4919, Val Loss: 1.0446, Test Loss: 1.0562\n",
            "Epoch [12/24], Train Loss: 0.4874, Val Loss: 1.0398, Test Loss: 1.0475\n",
            "Epoch [13/24], Train Loss: 0.4851, Val Loss: 1.0385, Test Loss: 1.0484\n",
            "Epoch [14/24], Train Loss: 0.4851, Val Loss: 1.0431, Test Loss: 1.0477\n",
            "Epoch [15/24], Train Loss: 0.5038, Val Loss: 1.0531, Test Loss: 1.0606\n",
            "Epoch [16/24], Train Loss: 0.4959, Val Loss: 1.0455, Test Loss: 1.0583\n",
            "Epoch [17/24], Train Loss: 0.4852, Val Loss: 1.0579, Test Loss: 1.0627\n",
            "Epoch [18/24], Train Loss: 0.5085, Val Loss: 1.0584, Test Loss: 1.0597\n",
            "Epoch [19/24], Train Loss: 0.4816, Val Loss: 1.0551, Test Loss: 1.0577\n",
            "Epoch [20/24], Train Loss: 0.4954, Val Loss: 1.0695, Test Loss: 1.0686\n",
            "Epoch [21/24], Train Loss: 0.4961, Val Loss: 1.0365, Test Loss: 1.0475\n",
            "Epoch [22/24], Train Loss: 0.5051, Val Loss: 1.0450, Test Loss: 1.0542\n",
            "Epoch [23/24], Train Loss: 0.4818, Val Loss: 1.0496, Test Loss: 1.0536\n",
            "Epoch [24/24], Train Loss: 0.4894, Val Loss: 1.0467, Test Loss: 1.0489\n"
          ]
        }
      ],
      "source": [
        "num_epochs = 24\n",
        "\n",
        "# Initialize lists to store losses\n",
        "train_losses = []\n",
        "val_losses = []\n",
        "test_losses = []\n",
        "\n",
        "for epoch in range(num_epochs):\n",
        "    # Training phase\n",
        "    simp_model.train()\n",
        "    train_loss = 0.0\n",
        "    \n",
        "    for batch_embeddings, batch_labels in train_loader:\n",
        "        # Forward pass\n",
        "        outputs = simp_model(batch_embeddings)\n",
        "        loss = lossf(outputs, batch_labels)\n",
        "        \n",
        "        # Backward and optimize\n",
        "        optimizer.zero_grad()\n",
        "        loss.backward()\n",
        "        optimizer.step()\n",
        "        \n",
        "        train_loss += loss.item()\n",
        "    \n",
        "    # Calculate average training loss\n",
        "    train_loss /= len(train_loader)\n",
        "    train_losses.append(train_loss)\n",
        "    \n",
        "    # Validation phase\n",
        "    simp_model.eval()\n",
        "    val_loss = 0.0\n",
        "\n",
        "    \n",
        "    with torch.no_grad():\n",
        "        for batch_embeddings, batch_labels in val_loader:\n",
        "            outputs = simp_model(batch_embeddings)\n",
        "            loss = lossf(outputs, batch_labels)\n",
        "            val_loss += loss.item()\n",
        "    \n",
        "    # Calculate average validation loss\n",
        "    val_loss /= len(val_loader)\n",
        "    val_losses.append(val_loss)\n",
        "\n",
        "    scheduler.step(val_loss)\n",
        "    \n",
        "    # Test phase\n",
        "    simp_model.eval()\n",
        "    test_loss = 0.0\n",
        "    \n",
        "    with torch.no_grad():\n",
        "        for batch_embeddings, batch_labels in test_loader:\n",
        "            outputs = simp_model(batch_embeddings)\n",
        "            loss = lossf(outputs, batch_labels)\n",
        "            test_loss += loss.item()\n",
        "    \n",
        "    # Calculate average test loss\n",
        "    test_loss /= len(test_loader)\n",
        "    test_losses.append(test_loss)\n",
        "    \n",
        "    print(f'Epoch [{epoch+1}/{num_epochs}], Train Loss: {train_loss:.4f}, Val Loss: {val_loss:.4f}, Test Loss: {test_loss:.4f}')\n"
      ]
    },
    {
      "cell_type": "code",
      "execution_count": 95,
      "metadata": {},
      "outputs": [
        {
          "name": "stdout",
          "output_type": "stream",
          "text": [
            "0.7052146110969642 0.6854620636133243\n",
            "Accuracy of the model on the data: 64.35%\n"
          ]
        }
      ],
      "source": [
        "from sklearn.metrics import f1_score\n",
        "\n",
        "simp_model.eval()\n",
        "with torch.no_grad():\n",
        "    correct = 0\n",
        "    total = 0\n",
        "    for batch_embeddings, batch_labels in test_loader:\n",
        "        outputs = simp_model(batch_embeddings)\n",
        "        _, predicted = torch.max(outputs.data, 1)\n",
        "        total += batch_labels.size(0)\n",
        "        correct += (predicted == batch_labels).sum().item()\n",
        "    f1 = f1_score(predicted , batch_labels, average='weighted')\n",
        "    f1_macro = f1_score(predicted, batch_labels, average='macro')\n",
        "    print (f1, f1_macro)\n",
        "    print(f'Accuracy of the model on the data: {100 * correct / total:.2f}%')"
      ]
    },
    {
      "cell_type": "code",
      "execution_count": 96,
      "metadata": {},
      "outputs": [
        {
          "data": {
            "image/png": "[encoded data removed]",
            "text/plain": [
              "<Figure size 1000x500 with 1 Axes>"
            ]
          },
          "metadata": {},
          "output_type": "display_data"
        }
      ],
      "source": [
        "plt.figure(figsize=(10, 5))\n",
        "plt.plot(range(1, num_epochs+1), train_losses, label='Training Loss')\n",
        "plt.plot(range(1, num_epochs+1), val_losses, label='Validation Loss')\n",
        "plt.plot(range(1, num_epochs+1), test_losses, label='Test Loss')\n",
        "plt.xlabel('Epochs')\n",
        "plt.ylabel('Loss')\n",
        "plt.title('Training, Validation, and Test Loss over Epochs')\n",
        "plt.legend()\n",
        "plt.show()\n"
      ]
    },
    {
      "cell_type": "code",
      "execution_count": 97,
      "metadata": {},
      "outputs": [
        {
          "name": "stdout",
          "output_type": "stream",
          "text": [
            "Requirement already satisfied: shap in /Users/diana/miniconda3/envs/newenv/lib/python3.10/site-packages (0.45.1)\n",
            "Requirement already satisfied: numpy in /Users/diana/miniconda3/envs/newenv/lib/python3.10/site-packages (from shap) (1.26.2)\n",
            "Requirement already satisfied: scipy in /Users/diana/miniconda3/envs/newenv/lib/python3.10/site-packages (from shap) (1.12.0)\n",
            "Requirement already satisfied: scikit-learn in /Users/diana/miniconda3/envs/newenv/lib/python3.10/site-packages (from shap) (1.3.0)\n",
            "Requirement already satisfied: pandas in /Users/diana/miniconda3/envs/newenv/lib/python3.10/site-packages (from shap) (2.1.4)\n",
            "Requirement already satisfied: tqdm>=4.27.0 in /Users/diana/miniconda3/envs/newenv/lib/python3.10/site-packages (from shap) (4.65.0)\n",
            "Requirement already satisfied: packaging>20.9 in /Users/diana/miniconda3/envs/newenv/lib/python3.10/site-packages (from shap) (23.2)\n",
            "Requirement already satisfied: slicer==0.0.8 in /Users/diana/miniconda3/envs/newenv/lib/python3.10/site-packages (from shap) (0.0.8)\n",
            "Requirement already satisfied: numba in /Users/diana/miniconda3/envs/newenv/lib/python3.10/site-packages (from shap) (0.60.0)\n",
            "Requirement already satisfied: cloudpickle in /Users/diana/miniconda3/envs/newenv/lib/python3.10/site-packages (from shap) (3.0.0)\n",
            "Requirement already satisfied: llvmlite<0.44,>=0.43.0dev0 in /Users/diana/miniconda3/envs/newenv/lib/python3.10/site-packages (from numba->shap) (0.43.0)\n",
            "Requirement already satisfied: python-dateutil>=2.8.2 in /Users/diana/miniconda3/envs/newenv/lib/python3.10/site-packages (from pandas->shap) (2.8.2)\n",
            "Requirement already satisfied: pytz>=2020.1 in /Users/diana/miniconda3/envs/newenv/lib/python3.10/site-packages (from pandas->shap) (2023.3.post1)\n",
            "Requirement already satisfied: tzdata>=2022.1 in /Users/diana/miniconda3/envs/newenv/lib/python3.10/site-packages (from pandas->shap) (2023.3)\n",
            "Requirement already satisfied: joblib>=1.1.1 in /Users/diana/miniconda3/envs/newenv/lib/python3.10/site-packages (from scikit-learn->shap) (1.2.0)\n",
            "Requirement already satisfied: threadpoolctl>=2.0.0 in /Users/diana/miniconda3/envs/newenv/lib/python3.10/site-packages (from scikit-learn->shap) (2.2.0)\n",
            "Requirement already satisfied: six>=1.5 in /Users/diana/miniconda3/envs/newenv/lib/python3.10/site-packages (from python-dateutil>=2.8.2->pandas->shap) (1.16.0)\n",
            "Note: you may need to restart the kernel to use updated packages.\n"
          ]
        }
      ],
      "source": [
        "pip install shap"
      ]
    },
    {
      "cell_type": "code",
      "execution_count": 98,
      "metadata": {},
      "outputs": [
        {
          "name": "stdout",
          "output_type": "stream",
          "text": [
            "Accuracy for class 0: 0.4000, F1 score: 0.5714\n",
            "Accuracy for class 1: 1.0000, F1 score: 0.6667\n",
            "Accuracy for class 2: 0.6667, F1 score: 0.5714\n",
            "Accuracy for class 3: 0.6667, F1 score: 0.7059\n",
            "Accuracy for class 4: 1.0000, F1 score: 0.8889\n",
            "Accuracy for class 5: 0.6667, F1 score: 0.7273\n",
            "Accuracy for class 6: 1.0000, F1 score: 0.6667\n"
          ]
        }
      ],
      "source": [
        "class_correct = np.zeros(output_dim)\n",
        "class_total = np.zeros(output_dim)\n",
        "\n",
        "# Collect true and predicted labels for calculating F1 score\n",
        "true_labels = []\n",
        "pred_labels = []\n",
        "\n",
        "# Calculate correct and total predictions for each class\n",
        "for true_label, pred_label in zip(batch_labels, predicted):\n",
        "    true_labels.append(true_label)\n",
        "    pred_labels.append(pred_label)\n",
        "    if true_label == pred_label:\n",
        "        class_correct[true_label] += 1\n",
        "    class_total[true_label] += 1\n",
        "\n",
        "# Calculate accuracy for each class\n",
        "class_accuracies = class_correct / class_total\n",
        "\n",
        "# Calculate F1 score for each class\n",
        "f1_scores = f1_score(true_labels, pred_labels, average=None)\n",
        "\n",
        "# Print accuracy and F1 score for each class\n",
        "for label, (accuracy, f1) in enumerate(zip(class_accuracies, f1_scores)):\n",
        "    print(f\"Accuracy for class {label}: {accuracy:.4f}, F1 score: {f1:.4f}\")"
      ]
    }
  ],
  "metadata": {
    "accelerator": "GPU",
    "colab": {
      "gpuType": "T4",
      "provenance": []
    },
    "kernelspec": {
      "display_name": "Python 3",
      "name": "python3"
    },
    "language_info": {
      "codemirror_mode": {
        "name": "ipython",
        "version": 3
      },
      "file_extension": ".py",
      "mimetype": "text/x-python",
      "name": "python",
      "nbconvert_exporter": "python",
      "pygments_lexer": "ipython3",
      "version": "3.10.13"
    }
  },
  "nbformat": 4,
  "nbformat_minor": 0
}
