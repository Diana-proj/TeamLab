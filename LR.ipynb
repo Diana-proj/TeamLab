{
  "cells": [
    {
      "cell_type": "code",
      "execution_count": 8,
      "metadata": {
        "id": "SQgYNX8hfFqP"
      },
      "outputs": [],
      "source": [
        "import pandas as pd\n",
        "import numpy as np\n",
        "%store -r X_tfidf\n",
        "%store -r y"
      ]
    },
    {
      "cell_type": "code",
      "execution_count": 9,
      "metadata": {},
      "outputs": [
        {
          "name": "stdout",
          "output_type": "stream",
          "text": [
            "Shape of input data (X_train): (920, 3317)\n",
            "Shape of input data (X_test): (230, 3317)\n",
            "  (0, 3245)\t0.2004818564277939\n",
            "  (0, 3024)\t0.4010564045812636\n",
            "  (0, 2040)\t0.21019780333971883\n",
            "  (0, 1378)\t0.3078734526281118\n",
            "  (0, 1292)\t0.6157469052562236\n",
            "  (0, 1228)\t0.28080745414653707\n",
            "  (0, 384)\t0.44943801417853135\n",
            "  (1, 3212)\t0.1354849108829937\n",
            "  (1, 3206)\t0.295929866430416\n",
            "  (1, 3179)\t0.1494985864399006\n",
            "  (1, 2990)\t0.3175147979756824\n",
            "  (1, 2933)\t0.1354849108829937\n",
            "  (1, 2932)\t0.19211741560488266\n",
            "  (1, 2462)\t0.42498714195596266\n",
            "  (1, 2072)\t0.269392322476597\n",
            "  (1, 1204)\t0.42498714195596266\n",
            "  (1, 1170)\t0.530884404814866\n",
            "  (2, 3179)\t0.07351057207468438\n",
            "  (2, 3132)\t0.1158973285955296\n",
            "  (2, 2985)\t0.07136362092430655\n",
            "  (2, 2941)\t0.16374926878628887\n",
            "  (2, 2933)\t0.19985954804663608\n",
            "  (2, 2895)\t0.21977794310591023\n",
            "  (2, 2171)\t0.25023763300313\n",
            "  (2, 2163)\t0.15462386549731716\n",
            "  :\t:\n",
            "  (918, 158)\t0.1451838320333192\n",
            "  (919, 3245)\t0.13656958721580909\n",
            "  (919, 3230)\t0.2645332609498175\n",
            "  (919, 3212)\t0.08433258738234373\n",
            "  (919, 3179)\t0.09305540020886793\n",
            "  (919, 3024)\t0.2732023166577499\n",
            "  (919, 2990)\t0.19763709678782043\n",
            "  (919, 2985)\t0.1806752448809262\n",
            "  (919, 2933)\t0.08433258738234373\n",
            "  (919, 2932)\t0.11958349187062488\n",
            "  (919, 2620)\t0.17144609475922395\n",
            "  (919, 2040)\t0.14318815551328593\n",
            "  (919, 1923)\t0.08578732926447392\n",
            "  (919, 1817)\t0.11325781698623098\n",
            "  (919, 1698)\t0.2782120159808332\n",
            "  (919, 1652)\t0.22776949953963443\n",
            "  (919, 1494)\t0.10281256212633795\n",
            "  (919, 1443)\t0.30616019408999046\n",
            "  (919, 1400)\t0.18000340384385416\n",
            "  (919, 1288)\t0.2194062208747749\n",
            "  (919, 1274)\t0.22424580135331104\n",
            "  (919, 1213)\t0.20168619442305966\n",
            "  (919, 680)\t0.34972813821552345\n",
            "  (919, 431)\t0.34972813821552345\n",
            "  (919, 162)\t0.08973190512391928\n"
          ]
        }
      ],
      "source": [
        "\n",
        "from sklearn.model_selection import train_test_split\n",
        "\n",
        "X_train, X_test, y_train, y_test = train_test_split(X_tfidf, y, test_size=0.2, random_state=1234)\n",
        "print(\"Shape of input data (X_train):\", X_train.shape)\n",
        "print(\"Shape of input data (X_test):\", X_test.shape)\n",
        "print (X_train)"
      ]
    },
    {
      "cell_type": "code",
      "execution_count": 11,
      "metadata": {},
      "outputs": [],
      "source": [
        "def sigmoid(x):\n",
        "    return 1/(1+np.exp(-x))\n",
        "\n",
        "class LogisticRegression:\n",
        "    def __init__(self, lr=0.01, n_iterations=2000):\n",
        "        self.lr = lr\n",
        "        self.n_iterations = n_iterations\n",
        "        self.weights = None\n",
        "        self.bias = None\n",
        "\n",
        "    def fit(self, X, y):\n",
        "        n_samples, n_features = X.shape\n",
        "        self.weights = np.random.rand(n_features)\n",
        "        self.bias = 0\n",
        "        self.class_labels = np.unique(y)\n",
        "        \n",
        "        for label in self.class_labels:\n",
        "            binary_y = np.where(y == label, 1, 0)\n",
        "            for _ in range(self.n_iterations):\n",
        "                linear_predictions = X.dot(self.weights) + self.bias\n",
        "                predictions = sigmoid (linear_predictions)  # using expit instead of sigmoid\n",
        "                dw = 1 / n_samples * X.T.dot(predictions - binary_y)\n",
        "                db = 1 / n_samples * np.sum(predictions - binary_y)\n",
        "                self.weights -= self.lr * dw\n",
        "                self.bias -= self.lr * db\n",
        "\n",
        "    def predict(self, X):\n",
        "        linear_predictions = X.dot(self.weights) + self.bias\n",
        "        y_pred = sigmoid (linear_predictions)\n",
        "        class_pred = [0 if y <= 0.5 else 1 for y in y_pred]\n",
        "        return class_pred\n",
        "\n",
        "model = LogisticRegression()\n",
        "model.fit(X_train, y_train)\n",
        "y_pred = model.predict(X_test)"
      ]
    },
    {
      "cell_type": "code",
      "execution_count": 12,
      "metadata": {},
      "outputs": [],
      "source": [
        "model = LogisticRegression()\n",
        "model.fit(X_train, y_train)\n",
        "y_pred = model.predict(X_test)"
      ]
    },
    {
      "cell_type": "code",
      "execution_count": 16,
      "metadata": {},
      "outputs": [
        {
          "name": "stdout",
          "output_type": "stream",
          "text": [
            "0.46956521739130436\n"
          ]
        }
      ],
      "source": [
        "def accuracy (y_pred,y_test):\n",
        "    return np.sum (y_pred==y_test)/len(y_test)\n",
        "acc = accuracy (y_pred,y_test)\n",
        "print (acc)"
      ]
    },
    {
      "cell_type": "code",
      "execution_count": 17,
      "metadata": {},
      "outputs": [
        {
          "name": "stdout",
          "output_type": "stream",
          "text": [
            "Accuracy: 0.46956521739130436\n"
          ]
        }
      ],
      "source": [
        "from sklearn.linear_model import LogisticRegression\n",
        "from sklearn.metrics import accuracy_score\n",
        "\n",
        "# Initialize logistic regression model\n",
        "logreg = LogisticRegression()\n",
        "\n",
        "# Train the model\n",
        "logreg.fit(X_train, y_train)\n",
        "\n",
        "# Make predictions\n",
        "y_pred = logreg.predict(X_test)\n",
        "\n",
        "# Evaluate the model\n",
        "accuracy = accuracy_score(y_test, y_pred)\n",
        "print(\"Accuracy:\", accuracy)"
      ]
    },
    {
      "cell_type": "code",
      "execution_count": 15,
      "metadata": {},
      "outputs": [
        {
          "name": "stdout",
          "output_type": "stream",
          "text": [
            "F1-score for class anger: 0.3871\n",
            "F1-score for class disgust: 0.3492\n",
            "F1-score for class fear: 0.5806\n",
            "F1-score for class guilt: 0.4000\n",
            "F1-score for class joy: 0.5246\n",
            "F1-score for class sadness: 0.6667\n",
            "F1-score for class shame: 0.3953\n"
          ]
        }
      ],
      "source": [
        "from sklearn.metrics import f1_score\n",
        "\n",
        "for label in model.class_labels:\n",
        "    binary_y_test = np.where(y_test == label, 1, 0)\n",
        "    binary_y_pred = np.where(y_pred == label, 1, 0)\n",
        "    f1 = f1_score(binary_y_test, binary_y_pred, average='binary')\n",
        "    print(\"F1-score for class {}: {:.4f}\".format(label, f1))"
      ]
    },
    {
      "cell_type": "markdown",
      "metadata": {},
      "source": []
    }
  ],
  "metadata": {
    "accelerator": "GPU",
    "colab": {
      "gpuType": "T4",
      "provenance": []
    },
    "kernelspec": {
      "display_name": "Python 3",
      "name": "python3"
    },
    "language_info": {
      "codemirror_mode": {
        "name": "ipython",
        "version": 3
      },
      "file_extension": ".py",
      "mimetype": "text/x-python",
      "name": "python",
      "nbconvert_exporter": "python",
      "pygments_lexer": "ipython3",
      "version": "3.10.13"
    }
  },
  "nbformat": 4,
  "nbformat_minor": 0
}
