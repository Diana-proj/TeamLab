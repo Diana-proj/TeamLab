{
  "cells": [
    {
      "cell_type": "code",
      "execution_count": 1,
      "metadata": {
        "id": "SQgYNX8hfFqP"
      },
      "outputs": [],
      "source": [
        "import pandas as pd\n",
        "import numpy as np"
      ]
    },
    {
      "cell_type": "code",
      "execution_count": 2,
      "metadata": {
        "colab": {
          "base_uri": "https://localhost:8080/",
          "height": 74
        },
        "id": "7HZa4LDcfID3",
        "outputId": "aa17a3ff-55ea-4092-c274-f3af58002c81"
      },
      "outputs": [],
      "source": [
        "file_path = '/Users/diana/Desktop/isear-test.xlsx'\n",
        "custom_headers = ['Emotions', 'Text']\n",
        "df = pd.read_excel(file_path, skiprows=1, header=None, names=custom_headers)"
      ]
    },
    {
      "cell_type": "markdown",
      "metadata": {},
      "source": [
        "conda install openpyxl"
      ]
    },
    {
      "cell_type": "code",
      "execution_count": 3,
      "metadata": {
        "colab": {
          "base_uri": "https://localhost:8080/",
          "height": 206
        },
        "id": "Rr-bdNNbaIob",
        "outputId": "7ed4b80b-90df-4c29-efa6-027ed1464d4e"
      },
      "outputs": [
        {
          "data": {
            "text/html": [
              "<div>\n",
              "<style scoped>\n",
              "    .dataframe tbody tr th:only-of-type {\n",
              "        vertical-align: middle;\n",
              "    }\n",
              "\n",
              "    .dataframe tbody tr th {\n",
              "        vertical-align: top;\n",
              "    }\n",
              "\n",
              "    .dataframe thead th {\n",
              "        text-align: right;\n",
              "    }\n",
              "</style>\n",
              "<table border=\"1\" class=\"dataframe\">\n",
              "  <thead>\n",
              "    <tr style=\"text-align: right;\">\n",
              "      <th></th>\n",
              "      <th>Emotions</th>\n",
              "      <th>Text</th>\n",
              "    </tr>\n",
              "  </thead>\n",
              "  <tbody>\n",
              "    <tr>\n",
              "      <th>0</th>\n",
              "      <td>joy</td>\n",
              "      <td>My first feeling of falling in love.  Coming a...</td>\n",
              "    </tr>\n",
              "    <tr>\n",
              "      <th>1</th>\n",
              "      <td>joy</td>\n",
              "      <td>When I saw that the mark I had obtained in an ...</td>\n",
              "    </tr>\n",
              "    <tr>\n",
              "      <th>2</th>\n",
              "      <td>joy</td>\n",
              "      <td>When I learnt that I had been admitted to the ...</td>\n",
              "    </tr>\n",
              "    <tr>\n",
              "      <th>3</th>\n",
              "      <td>anger</td>\n",
              "      <td>In a hurry to get to lectures and the car woul...</td>\n",
              "    </tr>\n",
              "    <tr>\n",
              "      <th>4</th>\n",
              "      <td>guilt</td>\n",
              "      <td>Not attending school, when  am not sick - but ...</td>\n",
              "    </tr>\n",
              "  </tbody>\n",
              "</table>\n",
              "</div>"
            ],
            "text/plain": [
              "  Emotions                                               Text\n",
              "0      joy  My first feeling of falling in love.  Coming a...\n",
              "1      joy  When I saw that the mark I had obtained in an ...\n",
              "2      joy  When I learnt that I had been admitted to the ...\n",
              "3    anger  In a hurry to get to lectures and the car woul...\n",
              "4    guilt  Not attending school, when  am not sick - but ..."
            ]
          },
          "execution_count": 3,
          "metadata": {},
          "output_type": "execute_result"
        }
      ],
      "source": [
        "df.head ()"
      ]
    },
    {
      "cell_type": "code",
      "execution_count": 4,
      "metadata": {
        "id": "B1d3uUgTfS-8"
      },
      "outputs": [
        {
          "name": "stdout",
          "output_type": "stream",
          "text": [
            "1150\n"
          ]
        }
      ],
      "source": [
        "total_count = df['Emotions'].value_counts().sum()\n",
        "print (total_count)"
      ]
    },
    {
      "cell_type": "code",
      "execution_count": 5,
      "metadata": {
        "colab": {
          "base_uri": "https://localhost:8080/"
        },
        "id": "OGIwuydtf0jh",
        "outputId": "f48e5fa1-48ac-4dbb-c739-a51e8e330116"
      },
      "outputs": [
        {
          "data": {
            "text/plain": [
              "Emotions\n",
              "shame      182\n",
              "fear       168\n",
              "anger      166\n",
              "disgust    166\n",
              "sadness    161\n",
              "guilt      155\n",
              "joy        152\n",
              "Name: count, dtype: int64"
            ]
          },
          "execution_count": 5,
          "metadata": {},
          "output_type": "execute_result"
        }
      ],
      "source": [
        "df['Emotions'].value_counts()\n"
      ]
    },
    {
      "cell_type": "code",
      "execution_count": 6,
      "metadata": {},
      "outputs": [
        {
          "name": "stdout",
          "output_type": "stream",
          "text": [
            "0         joy\n",
            "1         joy\n",
            "2         joy\n",
            "3       anger\n",
            "4       guilt\n",
            "        ...  \n",
            "1145    anger\n",
            "1146    anger\n",
            "1147    shame\n",
            "1148      joy\n",
            "1149      joy\n",
            "Name: Emotions, Length: 1150, dtype: object\n",
            "(1150,)\n",
            "['joy' 'joy' 'joy' ... 'shame' 'joy' 'joy']\n"
          ]
        }
      ],
      "source": [
        "print (df['Emotions'])\n",
        "print (df['Emotions'].shape)\n",
        "print (df['Emotions'].values)"
      ]
    },
    {
      "cell_type": "code",
      "execution_count": 7,
      "metadata": {},
      "outputs": [],
      "source": [
        "emotion_labels = list (set (df['Emotions'].values))"
      ]
    },
    {
      "cell_type": "code",
      "execution_count": 13,
      "metadata": {},
      "outputs": [],
      "source": [
        "\n",
        "\n",
        "def tokenize(text):\n",
        "    translation_table = str.maketrans({c: f' {c} ' if not c.isalnum() else c for c in set(text)})  # creates translation\n",
        "    # table(dictionary) with the built-in function maketrans, set(text) makes an unordered collection of unique\n",
        "    # elements through set comprehension, a concise way to create sets\n",
        "    tokenized_text = text.translate(translation_table)  # uses translation table to add whitespace around special\n",
        "    # characters and punctuation\n",
        "    return tokenized_text.strip().lower().split()  # split-tokens split on space, lower-tokens made all lowercase,\n",
        "    # strip-and leading or trailing whitespaces are removed from string\n",
        "\n",
        "\n",
        "#extract dict\n",
        "text = ''.join(df['Text'].astype(str))\n",
        "tokenized_text = tokenize(text) #all tokens, including repeating\n",
        "#print (tokenized_text)\n",
        "vocab = set(tokenized_text)\n",
        "#print(vocab)\n",
        "\n",
        "tokenized_text = []\n",
        "for index, sentence in enumerate(df['Text']):\n",
        "    emotion_label = df['Emotions'][index]\n",
        "    sentence = tokenize(sentence)\n",
        "    tokenized_text.append (sentence)\n",
        "    #print(emotion_label, sentence)\n",
        "#print (tokenized_text)\n"
      ]
    },
    {
      "cell_type": "code",
      "execution_count": 14,
      "metadata": {},
      "outputs": [],
      "source": [
        "from math import log\n",
        "\n",
        "collection = [token for instance in tokenized_text for token in instance]\n",
        "#print (collection)\n",
        "\n",
        "#tf-idf\n",
        "\n",
        "def calculate_tfidf(token, document):\n",
        "    tf = np.log(document.count(token) / len(document)) if token in document else 0 # 1+log(#oftimestokenindoc/total#termsindoc)\n",
        "    idf = log (1 + (len(tokenized_text) / collection.count(token))) # log(#ofdocs/#oftimestokenappearsincollection)\n",
        "    tfidf = tf * idf\n",
        "    return tfidf\n",
        "\n",
        "tfidf_scores_list = []\n",
        "for sentence in tokenized_text:\n",
        "        tfidf_scores = {token: calculate_tfidf(token, sentence) for token in set(sentence)}\n",
        "        tfidf_scores_list.append (tfidf_scores)\n",
        "#print (tfidf_scores_list)\n",
        "\n"
      ]
    },
    {
      "cell_type": "code",
      "execution_count": null,
      "metadata": {},
      "outputs": [],
      "source": [
        "from sklearn.feature_extraction.text import CountVectorizer, TfidfTransformer\n",
        "from scipy.sparse import csr_matrix\n",
        "import numpy as np\n",
        "\n",
        "# Convert the list of tokenized sentences into a list of strings\n",
        "corpus = [' '.join(sentence) for sentence in tokenized_text]\n",
        "\n",
        "# Create a CountVectorizer to convert the corpus into a document-term matrix\n",
        "count_vectorizer = CountVectorizer(vocabulary=vocab)\n",
        "X_count = count_vectorizer.fit_transform(corpus)\n",
        "\n",
        "# Create a TfidfTransformer to compute the TF-IDF scores\n",
        "tfidf_transformer = TfidfTransformer()\n",
        "X_tfidf = tfidf_transformer.fit_transform(X_count)\n",
        "\n",
        "\n",
        "# Convert the TF-IDF matrix to CSR format if needed\n",
        "if not isinstance(X_tfidf, csr_matrix):\n",
        "    X_tfidf = X_tfidf.tocsr()\n",
        "\n",
        "#print (corpus)\n",
        "#print(X_tfidf)"
      ]
    },
    {
      "cell_type": "code",
      "execution_count": null,
      "metadata": {},
      "outputs": [],
      "source": [
        "tfidf_df = pd.DataFrame(X_tfidf)\n",
        "\n",
        "tfidf_df.to_csv('tfidf_representations.csv', index=False)\n",
        "\n",
        "tfidf_df.to_excel('tfidf_representations.xlsx', index=False)"
      ]
    },
    {
      "cell_type": "markdown",
      "metadata": {},
      "source": []
    }
  ],
  "metadata": {
    "accelerator": "GPU",
    "colab": {
      "gpuType": "T4",
      "provenance": []
    },
    "kernelspec": {
      "display_name": "Python 3",
      "name": "python3"
    },
    "language_info": {
      "codemirror_mode": {
        "name": "ipython",
        "version": 3
      },
      "file_extension": ".py",
      "mimetype": "text/x-python",
      "name": "python",
      "nbconvert_exporter": "python",
      "pygments_lexer": "ipython3",
      "version": "3.9.6"
    }
  },
  "nbformat": 4,
  "nbformat_minor": 0
}
