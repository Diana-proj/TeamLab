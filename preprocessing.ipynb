{
  "cells": [
    {
      "cell_type": "code",
      "execution_count": 23,
      "metadata": {
        "id": "SQgYNX8hfFqP"
      },
      "outputs": [],
      "source": [
        "import pandas as pd\n",
        "import numpy as np\n",
        "import re"
      ]
    },
    {
      "cell_type": "code",
      "execution_count": 24,
      "metadata": {
        "colab": {
          "base_uri": "https://localhost:8080/",
          "height": 74
        },
        "id": "7HZa4LDcfID3",
        "outputId": "aa17a3ff-55ea-4092-c274-f3af58002c81"
      },
      "outputs": [],
      "source": [
        "file_path = '/Users/diana/Desktop/isear-test.xlsx'\n",
        "custom_headers = ['Emotions', 'Text']\n",
        "df = pd.read_excel(file_path, skiprows=1, header=None, names=custom_headers)"
      ]
    },
    {
      "cell_type": "markdown",
      "metadata": {},
      "source": [
        "conda install openpyxl"
      ]
    },
    {
      "cell_type": "code",
      "execution_count": 25,
      "metadata": {
        "colab": {
          "base_uri": "https://localhost:8080/",
          "height": 206
        },
        "id": "Rr-bdNNbaIob",
        "outputId": "7ed4b80b-90df-4c29-efa6-027ed1464d4e"
      },
      "outputs": [
        {
          "data": {
            "text/html": [
              "<div>\n",
              "<style scoped>\n",
              "    .dataframe tbody tr th:only-of-type {\n",
              "        vertical-align: middle;\n",
              "    }\n",
              "\n",
              "    .dataframe tbody tr th {\n",
              "        vertical-align: top;\n",
              "    }\n",
              "\n",
              "    .dataframe thead th {\n",
              "        text-align: right;\n",
              "    }\n",
              "</style>\n",
              "<table border=\"1\" class=\"dataframe\">\n",
              "  <thead>\n",
              "    <tr style=\"text-align: right;\">\n",
              "      <th></th>\n",
              "      <th>Emotions</th>\n",
              "      <th>Text</th>\n",
              "    </tr>\n",
              "  </thead>\n",
              "  <tbody>\n",
              "    <tr>\n",
              "      <th>0</th>\n",
              "      <td>joy</td>\n",
              "      <td>My first feeling of falling in love.  Coming a...</td>\n",
              "    </tr>\n",
              "    <tr>\n",
              "      <th>1</th>\n",
              "      <td>joy</td>\n",
              "      <td>When I saw that the mark I had obtained in an ...</td>\n",
              "    </tr>\n",
              "    <tr>\n",
              "      <th>2</th>\n",
              "      <td>joy</td>\n",
              "      <td>When I learnt that I had been admitted to the ...</td>\n",
              "    </tr>\n",
              "    <tr>\n",
              "      <th>3</th>\n",
              "      <td>anger</td>\n",
              "      <td>In a hurry to get to lectures and the car woul...</td>\n",
              "    </tr>\n",
              "    <tr>\n",
              "      <th>4</th>\n",
              "      <td>guilt</td>\n",
              "      <td>Not attending school, when  am not sick - but ...</td>\n",
              "    </tr>\n",
              "  </tbody>\n",
              "</table>\n",
              "</div>"
            ],
            "text/plain": [
              "  Emotions                                               Text\n",
              "0      joy  My first feeling of falling in love.  Coming a...\n",
              "1      joy  When I saw that the mark I had obtained in an ...\n",
              "2      joy  When I learnt that I had been admitted to the ...\n",
              "3    anger  In a hurry to get to lectures and the car woul...\n",
              "4    guilt  Not attending school, when  am not sick - but ..."
            ]
          },
          "execution_count": 25,
          "metadata": {},
          "output_type": "execute_result"
        }
      ],
      "source": [
        "df.head ()"
      ]
    },
    {
      "cell_type": "code",
      "execution_count": 26,
      "metadata": {
        "id": "B1d3uUgTfS-8"
      },
      "outputs": [
        {
          "name": "stdout",
          "output_type": "stream",
          "text": [
            "1150\n"
          ]
        }
      ],
      "source": [
        "total_count = df['Emotions'].value_counts().sum()\n",
        "print (total_count)"
      ]
    },
    {
      "cell_type": "code",
      "execution_count": 27,
      "metadata": {
        "colab": {
          "base_uri": "https://localhost:8080/"
        },
        "id": "OGIwuydtf0jh",
        "outputId": "f48e5fa1-48ac-4dbb-c739-a51e8e330116"
      },
      "outputs": [
        {
          "data": {
            "text/plain": [
              "Emotions\n",
              "shame      182\n",
              "fear       168\n",
              "anger      166\n",
              "disgust    166\n",
              "sadness    161\n",
              "guilt      155\n",
              "joy        152\n",
              "Name: count, dtype: int64"
            ]
          },
          "execution_count": 27,
          "metadata": {},
          "output_type": "execute_result"
        }
      ],
      "source": [
        "df['Emotions'].value_counts()"
      ]
    },
    {
      "cell_type": "code",
      "execution_count": 28,
      "metadata": {},
      "outputs": [],
      "source": [
        "emotions_set = list (set (df['Emotions'].values))"
      ]
    },
    {
      "cell_type": "code",
      "execution_count": 65,
      "metadata": {},
      "outputs": [
        {
          "name": "stdout",
          "output_type": "stream",
          "text": [
            "object\n",
            "here 0       my first feeling of falling in love.  coming a...\n",
            "1       when i saw that the mark i had obtained in an ...\n",
            "2       when i learnt that i had been admitted to the ...\n",
            "3       in a hurry to get to lectures and the car woul...\n",
            "4       not attending school, when  am not sick - but ...\n",
            "                              ...                        \n",
            "1145     once i saw some children hunting a cat to death.\n",
            "1146                       being insulted by my roommate.\n",
            "1147    i had a habit of wetting my bed when i was you...\n",
            "1148     when i was selected to the university of zambia.\n",
            "1149    when i learnt that i had been accepted at the ...\n",
            "Name: Text, Length: 1150, dtype: object\n",
            "0       [my, first, feeling, of, falling, in, love., c...\n",
            "1       [when, i, saw, that, the, mark, i, had, obtain...\n",
            "2       [when, i, learnt, that, i, had, been, admitted...\n",
            "3       [in, a, hurry, to, get, to, lectures, and, the...\n",
            "4       [not, attending, school,, when, am, not, sick,...\n",
            "                              ...                        \n",
            "1145    [once, i, saw, some, children, hunting, a, cat...\n",
            "1146                 [being, insulted, by, my, roommate.]\n",
            "1147    [i, had, a, habit, of, wetting, my, bed, when,...\n",
            "1148    [when, i, was, selected, to, the, university, ...\n",
            "1149    [when, i, learnt, that, i, had, been, accepted...\n",
            "Name: Text, Length: 1150, dtype: object\n"
          ]
        },
        {
          "ename": "TypeError",
          "evalue": "'list' object is not callable",
          "output_type": "error",
          "traceback": [
            "\u001b[0;31m---------------------------------------------------------------------------\u001b[0m",
            "\u001b[0;31mTypeError\u001b[0m                                 Traceback (most recent call last)",
            "Cell \u001b[0;32mIn[65], line 18\u001b[0m\n\u001b[1;32m     16\u001b[0m         \u001b[38;5;28;01mif\u001b[39;00m token \u001b[38;5;129;01mnot\u001b[39;00m \u001b[38;5;129;01min\u001b[39;00m vocab:\n\u001b[1;32m     17\u001b[0m             vocab\u001b[38;5;241m.\u001b[39madd(token)\n\u001b[0;32m---> 18\u001b[0m \u001b[38;5;28mprint\u001b[39m (\u001b[38;5;28;43mlist\u001b[39;49m\u001b[43m(\u001b[49m\u001b[43mvocab\u001b[49m\u001b[43m)\u001b[49m)\n",
            "\u001b[0;31mTypeError\u001b[0m: 'list' object is not callable"
          ]
        }
      ],
      "source": [
        "print (df['Text'].dtype)\n",
        "df['Text'] = df['Text'].str.lower ()\n",
        "text_column = df['Text']\n",
        "#print (\"here\", text_column)\n",
        "tokenized_text = text_column.str.split()\n",
        "#print (tokenized_text)\n",
        "\n",
        "vocab = set() \n",
        "for tokens_list in tokenized_text:\n",
        "    for token in tokens_list:\n",
        "        if r'[^\\w\\s]' in token:\n",
        "            if re.search(r'[^\\w\\s]', token):\n",
        "                token = re.sub(r'[^\\w\\s]+$', '', token)\n",
        "                if token not in vocab:\n",
        "                    vocab.add (token[-1])\n",
        "        if token not in vocab:\n",
        "            vocab.add(token)\n",
        "#print (list(vocab))\n"
      ]
    },
    {
      "cell_type": "code",
      "execution_count": 30,
      "metadata": {},
      "outputs": [
        {
          "ename": "KeyboardInterrupt",
          "evalue": "",
          "output_type": "error",
          "traceback": [
            "\u001b[0;31m---------------------------------------------------------------------------\u001b[0m",
            "\u001b[0;31mKeyboardInterrupt\u001b[0m                         Traceback (most recent call last)",
            "Cell \u001b[0;32mIn[30], line 21\u001b[0m\n\u001b[1;32m     19\u001b[0m             tfidf_scores_list\u001b[38;5;241m.\u001b[39mappend(tfidf_scores)\n\u001b[1;32m     20\u001b[0m         \u001b[38;5;28;01melse\u001b[39;00m:\n\u001b[0;32m---> 21\u001b[0m             tfidf_scores \u001b[38;5;241m=\u001b[39m {calculate_tfidf(token, instance) \u001b[38;5;28;01mfor\u001b[39;00m token \u001b[38;5;129;01min\u001b[39;00m \u001b[38;5;28mset\u001b[39m(instance)}\n\u001b[1;32m     22\u001b[0m             tfidf_scores_list\u001b[38;5;241m.\u001b[39mappend(tfidf_scores)\n\u001b[1;32m     24\u001b[0m \u001b[38;5;28mprint\u001b[39m (tfidf_scores_list[\u001b[38;5;241m0\u001b[39m])\n",
            "Cell \u001b[0;32mIn[30], line 21\u001b[0m, in \u001b[0;36m<setcomp>\u001b[0;34m(.0)\u001b[0m\n\u001b[1;32m     19\u001b[0m             tfidf_scores_list\u001b[38;5;241m.\u001b[39mappend(tfidf_scores)\n\u001b[1;32m     20\u001b[0m         \u001b[38;5;28;01melse\u001b[39;00m:\n\u001b[0;32m---> 21\u001b[0m             tfidf_scores \u001b[38;5;241m=\u001b[39m {\u001b[43mcalculate_tfidf\u001b[49m\u001b[43m(\u001b[49m\u001b[43mtoken\u001b[49m\u001b[43m,\u001b[49m\u001b[43m \u001b[49m\u001b[43minstance\u001b[49m\u001b[43m)\u001b[49m \u001b[38;5;28;01mfor\u001b[39;00m token \u001b[38;5;129;01min\u001b[39;00m \u001b[38;5;28mset\u001b[39m(instance)}\n\u001b[1;32m     22\u001b[0m             tfidf_scores_list\u001b[38;5;241m.\u001b[39mappend(tfidf_scores)\n\u001b[1;32m     24\u001b[0m \u001b[38;5;28mprint\u001b[39m (tfidf_scores_list[\u001b[38;5;241m0\u001b[39m])\n",
            "Cell \u001b[0;32mIn[30], line 9\u001b[0m, in \u001b[0;36mcalculate_tfidf\u001b[0;34m(token, document)\u001b[0m\n\u001b[1;32m      7\u001b[0m \u001b[38;5;28;01mdef\u001b[39;00m \u001b[38;5;21mcalculate_tfidf\u001b[39m(token, document):\n\u001b[1;32m      8\u001b[0m     tf \u001b[38;5;241m=\u001b[39m document\u001b[38;5;241m.\u001b[39mcount(token) \u001b[38;5;241m/\u001b[39m \u001b[38;5;28mlen\u001b[39m(document)\n\u001b[0;32m----> 9\u001b[0m     idf \u001b[38;5;241m=\u001b[39m log(\u001b[38;5;28mlen\u001b[39m(tokenized_text) \u001b[38;5;241m/\u001b[39m \u001b[43mcollection\u001b[49m\u001b[38;5;241;43m.\u001b[39;49m\u001b[43mcount\u001b[49m\u001b[43m(\u001b[49m\u001b[43mtoken\u001b[49m\u001b[43m)\u001b[49m)\n\u001b[1;32m     10\u001b[0m     tfidf \u001b[38;5;241m=\u001b[39m tf \u001b[38;5;241m*\u001b[39m idf\n\u001b[1;32m     11\u001b[0m     \u001b[38;5;28;01mreturn\u001b[39;00m tfidf\n",
            "\u001b[0;31mKeyboardInterrupt\u001b[0m: "
          ]
        }
      ],
      "source": [
        "from math import log\n",
        "\n",
        "collection = [token for instance in tokenized_text for token in instance]\n",
        "\n",
        "#tf-idf\n",
        "\n",
        "def calculate_tfidf(token, document):\n",
        "    tf = document.count(token) / len(document)\n",
        "    idf = log(len(tokenized_text) / collection.count(token))\n",
        "    tfidf = tf * idf\n",
        "    return tfidf\n",
        "\n",
        "tfidf_scores_list = []\n",
        "\n",
        "for instance in tokenized_text:\n",
        "    for word in vocab:\n",
        "        if word not in instance:\n",
        "            tfidf_scores = {0}\n",
        "            tfidf_scores_list.append(tfidf_scores)\n",
        "        else:\n",
        "            tfidf_scores = {calculate_tfidf(token, instance) for token in set(instance)}\n",
        "            tfidf_scores_list.append(tfidf_scores)\n",
        "\n",
        "print (tfidf_scores_list[0])"
      ]
    },
    {
      "cell_type": "code",
      "execution_count": 31,
      "metadata": {},
      "outputs": [
        {
          "name": "stdout",
          "output_type": "stream",
          "text": [
            "Channels:\n",
            " - defaults\n",
            " - conda-forge\n",
            " - huggingface\n",
            " - pytorch\n",
            "Platform: osx-64\n",
            "Collecting package metadata (repodata.json): done\n",
            "Solving environment: done\n",
            "\n",
            "## Package Plan ##\n",
            "\n",
            "  environment location: /Users/diana/miniconda3/envs/newenv\n",
            "\n",
            "  added / updated specs:\n",
            "    - scikit-learn\n",
            "\n",
            "\n",
            "The following packages will be downloaded:\n",
            "\n",
            "    package                    |            build\n",
            "    ---------------------------|-----------------\n",
            "    joblib-1.2.0               |  py310hecd8cb5_0         402 KB\n",
            "    scikit-learn-1.3.0         |  py310h3ea8b11_1         7.6 MB\n",
            "    scipy-1.12.0               |  py310ha516a68_0        21.9 MB\n",
            "    threadpoolctl-2.2.0        |     pyh0d69192_0          16 KB\n",
            "    ------------------------------------------------------------\n",
            "                                           Total:        30.0 MB\n",
            "\n",
            "The following NEW packages will be INSTALLED:\n",
            "\n",
            "  joblib             pkgs/main/osx-64::joblib-1.2.0-py310hecd8cb5_0 \n",
            "  scikit-learn       pkgs/main/osx-64::scikit-learn-1.3.0-py310h3ea8b11_1 \n",
            "  scipy              pkgs/main/osx-64::scipy-1.12.0-py310ha516a68_0 \n",
            "  threadpoolctl      pkgs/main/noarch::threadpoolctl-2.2.0-pyh0d69192_0 \n",
            "\n",
            "\n",
            "\n",
            "Downloading and Extracting Packages:\n",
            "scipy-1.12.0         | 21.9 MB   |                                       |   0% \n",
            "scikit-learn-1.3.0   | 7.6 MB    |                                       |   0% \u001b[A\n",
            "\n",
            "joblib-1.2.0         | 402 KB    |                                       |   0% \u001b[A\u001b[A\n",
            "\n",
            "\n",
            "threadpoolctl-2.2.0  | 16 KB     |                                       |   0% \u001b[A\u001b[A\u001b[A\n",
            "\n",
            "\n",
            "threadpoolctl-2.2.0  | 16 KB     | ####################################2 |  98% \u001b[A\u001b[A\u001b[A\n",
            "\n",
            "\n",
            "scipy-1.12.0         | 21.9 MB   |                                       |   0% \u001b[A\u001b[A\u001b[A\n",
            "scipy-1.12.0         | 21.9 MB   | 3                                     |   1% \u001b[A\n",
            "scikit-learn-1.3.0   | 7.6 MB    | ##5                                   |   7% \u001b[A\n",
            "\n",
            "joblib-1.2.0         | 402 KB    | #4                                    |   4% \u001b[A\u001b[A\n",
            "scikit-learn-1.3.0   | 7.6 MB    | ############5                         |  34% \u001b[A\n",
            "\n",
            "scipy-1.12.0         | 21.9 MB   | #3                                    |   4% \u001b[A\u001b[A\n",
            "scipy-1.12.0         | 21.9 MB   | ##1                                   |   6% \u001b[A\n",
            "scipy-1.12.0         | 21.9 MB   | ######1                               |  17% \u001b[A\n",
            "\n",
            "joblib-1.2.0         | 402 KB    | ##################################### | 100% \u001b[A\u001b[A\n",
            "\n",
            "scipy-1.12.0         | 21.9 MB   | #############4                        |  36% \u001b[A\u001b[A\n",
            "                                                                                \u001b[A\n",
            "                                                                                \u001b[A\n",
            "\n",
            "                                                                                \u001b[A\u001b[A\n",
            "\n",
            "\n",
            "                                                                                \u001b[A\u001b[A\u001b[A\n",
            "Preparing transaction: done\n",
            "Verifying transaction: done\n",
            "Executing transaction: done\n",
            "\n",
            "Note: you may need to restart the kernel to use updated packages.\n"
          ]
        }
      ],
      "source": [
        "conda install scikit-learn\n"
      ]
    },
    {
      "cell_type": "code",
      "execution_count": 38,
      "metadata": {},
      "outputs": [],
      "source": [
        "import sklearn\n"
      ]
    },
    {
      "cell_type": "code",
      "execution_count": 57,
      "metadata": {},
      "outputs": [
        {
          "ename": "AttributeError",
          "evalue": "'list' object has no attribute 'lower'",
          "output_type": "error",
          "traceback": [
            "\u001b[0;31m---------------------------------------------------------------------------\u001b[0m",
            "\u001b[0;31mAttributeError\u001b[0m                            Traceback (most recent call last)",
            "Cell \u001b[0;32mIn[57], line 7\u001b[0m\n\u001b[1;32m      4\u001b[0m tfidf_vectorizer \u001b[38;5;241m=\u001b[39m TfidfVectorizer()\n\u001b[1;32m      6\u001b[0m \u001b[38;5;66;03m# Fit and transform the corpus to obtain the TF-IDF sparse matrix\u001b[39;00m\n\u001b[0;32m----> 7\u001b[0m tfidf_matrix_sparse \u001b[38;5;241m=\u001b[39m \u001b[43mtfidf_vectorizer\u001b[49m\u001b[38;5;241;43m.\u001b[39;49m\u001b[43mfit_transform\u001b[49m\u001b[43m(\u001b[49m\u001b[43msentences_list\u001b[49m\u001b[43m)\u001b[49m\n\u001b[1;32m      9\u001b[0m \u001b[38;5;28mprint\u001b[39m (tfidf_matrix_sparse)\n",
            "File \u001b[0;32m~/miniconda3/envs/newenv/lib/python3.10/site-packages/sklearn/feature_extraction/text.py:2126\u001b[0m, in \u001b[0;36mTfidfVectorizer.fit_transform\u001b[0;34m(self, raw_documents, y)\u001b[0m\n\u001b[1;32m   2119\u001b[0m \u001b[38;5;28mself\u001b[39m\u001b[38;5;241m.\u001b[39m_check_params()\n\u001b[1;32m   2120\u001b[0m \u001b[38;5;28mself\u001b[39m\u001b[38;5;241m.\u001b[39m_tfidf \u001b[38;5;241m=\u001b[39m TfidfTransformer(\n\u001b[1;32m   2121\u001b[0m     norm\u001b[38;5;241m=\u001b[39m\u001b[38;5;28mself\u001b[39m\u001b[38;5;241m.\u001b[39mnorm,\n\u001b[1;32m   2122\u001b[0m     use_idf\u001b[38;5;241m=\u001b[39m\u001b[38;5;28mself\u001b[39m\u001b[38;5;241m.\u001b[39muse_idf,\n\u001b[1;32m   2123\u001b[0m     smooth_idf\u001b[38;5;241m=\u001b[39m\u001b[38;5;28mself\u001b[39m\u001b[38;5;241m.\u001b[39msmooth_idf,\n\u001b[1;32m   2124\u001b[0m     sublinear_tf\u001b[38;5;241m=\u001b[39m\u001b[38;5;28mself\u001b[39m\u001b[38;5;241m.\u001b[39msublinear_tf,\n\u001b[1;32m   2125\u001b[0m )\n\u001b[0;32m-> 2126\u001b[0m X \u001b[38;5;241m=\u001b[39m \u001b[38;5;28;43msuper\u001b[39;49m\u001b[43m(\u001b[49m\u001b[43m)\u001b[49m\u001b[38;5;241;43m.\u001b[39;49m\u001b[43mfit_transform\u001b[49m\u001b[43m(\u001b[49m\u001b[43mraw_documents\u001b[49m\u001b[43m)\u001b[49m\n\u001b[1;32m   2127\u001b[0m \u001b[38;5;28mself\u001b[39m\u001b[38;5;241m.\u001b[39m_tfidf\u001b[38;5;241m.\u001b[39mfit(X)\n\u001b[1;32m   2128\u001b[0m \u001b[38;5;66;03m# X is already a transformed view of raw_documents so\u001b[39;00m\n\u001b[1;32m   2129\u001b[0m \u001b[38;5;66;03m# we set copy to False\u001b[39;00m\n",
            "File \u001b[0;32m~/miniconda3/envs/newenv/lib/python3.10/site-packages/sklearn/base.py:1151\u001b[0m, in \u001b[0;36m_fit_context.<locals>.decorator.<locals>.wrapper\u001b[0;34m(estimator, *args, **kwargs)\u001b[0m\n\u001b[1;32m   1144\u001b[0m     estimator\u001b[38;5;241m.\u001b[39m_validate_params()\n\u001b[1;32m   1146\u001b[0m \u001b[38;5;28;01mwith\u001b[39;00m config_context(\n\u001b[1;32m   1147\u001b[0m     skip_parameter_validation\u001b[38;5;241m=\u001b[39m(\n\u001b[1;32m   1148\u001b[0m         prefer_skip_nested_validation \u001b[38;5;129;01mor\u001b[39;00m global_skip_validation\n\u001b[1;32m   1149\u001b[0m     )\n\u001b[1;32m   1150\u001b[0m ):\n\u001b[0;32m-> 1151\u001b[0m     \u001b[38;5;28;01mreturn\u001b[39;00m \u001b[43mfit_method\u001b[49m\u001b[43m(\u001b[49m\u001b[43mestimator\u001b[49m\u001b[43m,\u001b[49m\u001b[43m \u001b[49m\u001b[38;5;241;43m*\u001b[39;49m\u001b[43margs\u001b[49m\u001b[43m,\u001b[49m\u001b[43m \u001b[49m\u001b[38;5;241;43m*\u001b[39;49m\u001b[38;5;241;43m*\u001b[39;49m\u001b[43mkwargs\u001b[49m\u001b[43m)\u001b[49m\n",
            "File \u001b[0;32m~/miniconda3/envs/newenv/lib/python3.10/site-packages/sklearn/feature_extraction/text.py:1383\u001b[0m, in \u001b[0;36mCountVectorizer.fit_transform\u001b[0;34m(self, raw_documents, y)\u001b[0m\n\u001b[1;32m   1375\u001b[0m             warnings\u001b[38;5;241m.\u001b[39mwarn(\n\u001b[1;32m   1376\u001b[0m                 \u001b[38;5;124m\"\u001b[39m\u001b[38;5;124mUpper case characters found in\u001b[39m\u001b[38;5;124m\"\u001b[39m\n\u001b[1;32m   1377\u001b[0m                 \u001b[38;5;124m\"\u001b[39m\u001b[38;5;124m vocabulary while \u001b[39m\u001b[38;5;124m'\u001b[39m\u001b[38;5;124mlowercase\u001b[39m\u001b[38;5;124m'\u001b[39m\u001b[38;5;124m\"\u001b[39m\n\u001b[1;32m   1378\u001b[0m                 \u001b[38;5;124m\"\u001b[39m\u001b[38;5;124m is True. These entries will not\u001b[39m\u001b[38;5;124m\"\u001b[39m\n\u001b[1;32m   1379\u001b[0m                 \u001b[38;5;124m\"\u001b[39m\u001b[38;5;124m be matched with any documents\u001b[39m\u001b[38;5;124m\"\u001b[39m\n\u001b[1;32m   1380\u001b[0m             )\n\u001b[1;32m   1381\u001b[0m             \u001b[38;5;28;01mbreak\u001b[39;00m\n\u001b[0;32m-> 1383\u001b[0m vocabulary, X \u001b[38;5;241m=\u001b[39m \u001b[38;5;28;43mself\u001b[39;49m\u001b[38;5;241;43m.\u001b[39;49m\u001b[43m_count_vocab\u001b[49m\u001b[43m(\u001b[49m\u001b[43mraw_documents\u001b[49m\u001b[43m,\u001b[49m\u001b[43m \u001b[49m\u001b[38;5;28;43mself\u001b[39;49m\u001b[38;5;241;43m.\u001b[39;49m\u001b[43mfixed_vocabulary_\u001b[49m\u001b[43m)\u001b[49m\n\u001b[1;32m   1385\u001b[0m \u001b[38;5;28;01mif\u001b[39;00m \u001b[38;5;28mself\u001b[39m\u001b[38;5;241m.\u001b[39mbinary:\n\u001b[1;32m   1386\u001b[0m     X\u001b[38;5;241m.\u001b[39mdata\u001b[38;5;241m.\u001b[39mfill(\u001b[38;5;241m1\u001b[39m)\n",
            "File \u001b[0;32m~/miniconda3/envs/newenv/lib/python3.10/site-packages/sklearn/feature_extraction/text.py:1270\u001b[0m, in \u001b[0;36mCountVectorizer._count_vocab\u001b[0;34m(self, raw_documents, fixed_vocab)\u001b[0m\n\u001b[1;32m   1268\u001b[0m \u001b[38;5;28;01mfor\u001b[39;00m doc \u001b[38;5;129;01min\u001b[39;00m raw_documents:\n\u001b[1;32m   1269\u001b[0m     feature_counter \u001b[38;5;241m=\u001b[39m {}\n\u001b[0;32m-> 1270\u001b[0m     \u001b[38;5;28;01mfor\u001b[39;00m feature \u001b[38;5;129;01min\u001b[39;00m \u001b[43manalyze\u001b[49m\u001b[43m(\u001b[49m\u001b[43mdoc\u001b[49m\u001b[43m)\u001b[49m:\n\u001b[1;32m   1271\u001b[0m         \u001b[38;5;28;01mtry\u001b[39;00m:\n\u001b[1;32m   1272\u001b[0m             feature_idx \u001b[38;5;241m=\u001b[39m vocabulary[feature]\n",
            "File \u001b[0;32m~/miniconda3/envs/newenv/lib/python3.10/site-packages/sklearn/feature_extraction/text.py:110\u001b[0m, in \u001b[0;36m_analyze\u001b[0;34m(doc, analyzer, tokenizer, ngrams, preprocessor, decoder, stop_words)\u001b[0m\n\u001b[1;32m    108\u001b[0m \u001b[38;5;28;01melse\u001b[39;00m:\n\u001b[1;32m    109\u001b[0m     \u001b[38;5;28;01mif\u001b[39;00m preprocessor \u001b[38;5;129;01mis\u001b[39;00m \u001b[38;5;129;01mnot\u001b[39;00m \u001b[38;5;28;01mNone\u001b[39;00m:\n\u001b[0;32m--> 110\u001b[0m         doc \u001b[38;5;241m=\u001b[39m \u001b[43mpreprocessor\u001b[49m\u001b[43m(\u001b[49m\u001b[43mdoc\u001b[49m\u001b[43m)\u001b[49m\n\u001b[1;32m    111\u001b[0m     \u001b[38;5;28;01mif\u001b[39;00m tokenizer \u001b[38;5;129;01mis\u001b[39;00m \u001b[38;5;129;01mnot\u001b[39;00m \u001b[38;5;28;01mNone\u001b[39;00m:\n\u001b[1;32m    112\u001b[0m         doc \u001b[38;5;241m=\u001b[39m tokenizer(doc)\n",
            "File \u001b[0;32m~/miniconda3/envs/newenv/lib/python3.10/site-packages/sklearn/feature_extraction/text.py:68\u001b[0m, in \u001b[0;36m_preprocess\u001b[0;34m(doc, accent_function, lower)\u001b[0m\n\u001b[1;32m     49\u001b[0m \u001b[38;5;250m\u001b[39m\u001b[38;5;124;03m\"\"\"Chain together an optional series of text preprocessing steps to\u001b[39;00m\n\u001b[1;32m     50\u001b[0m \u001b[38;5;124;03mapply to a document.\u001b[39;00m\n\u001b[1;32m     51\u001b[0m \n\u001b[0;32m   (...)\u001b[0m\n\u001b[1;32m     65\u001b[0m \u001b[38;5;124;03m    preprocessed string\u001b[39;00m\n\u001b[1;32m     66\u001b[0m \u001b[38;5;124;03m\"\"\"\u001b[39;00m\n\u001b[1;32m     67\u001b[0m \u001b[38;5;28;01mif\u001b[39;00m lower:\n\u001b[0;32m---> 68\u001b[0m     doc \u001b[38;5;241m=\u001b[39m \u001b[43mdoc\u001b[49m\u001b[38;5;241;43m.\u001b[39;49m\u001b[43mlower\u001b[49m()\n\u001b[1;32m     69\u001b[0m \u001b[38;5;28;01mif\u001b[39;00m accent_function \u001b[38;5;129;01mis\u001b[39;00m \u001b[38;5;129;01mnot\u001b[39;00m \u001b[38;5;28;01mNone\u001b[39;00m:\n\u001b[1;32m     70\u001b[0m     doc \u001b[38;5;241m=\u001b[39m accent_function(doc)\n",
            "\u001b[0;31mAttributeError\u001b[0m: 'list' object has no attribute 'lower'"
          ]
        }
      ],
      "source": [
        "from sklearn.feature_extraction.text import TfidfVectorizer\n",
        "\n",
        "\n",
        "tfidf_vectorizer = TfidfVectorizer()\n",
        "\n",
        "# Fit and transform the corpus to obtain the TF-IDF sparse matrix\n",
        "tfidf_matrix_sparse = tfidf_vectorizer.fit_transform(sentences_list)\n",
        "\n",
        "print (tfidf_matrix_sparse)"
      ]
    },
    {
      "cell_type": "code",
      "execution_count": 10,
      "metadata": {},
      "outputs": [],
      "source": [
        "import torch\n",
        "import torch.nn as nn\n",
        "import matplotlib.pyplot as plt\n",
        "\n",
        "from torch.autograd import Variable"
      ]
    },
    {
      "cell_type": "code",
      "execution_count": 11,
      "metadata": {},
      "outputs": [],
      "source": [
        "class Emotions (nn.Module):\n",
        "\n",
        "    def __init__(self, input_size, hidden_1, output_size):\n",
        "\n",
        "        super (Emotions, self).__init__()\n",
        "        self.fc1 = nn.Linear (input_size, hidden_1)\n",
        "        self.relu1 = nn.ReLU()\n",
        "        self.fc2 = nn.Linear (hidden_1, output_size)\n",
        "    def forward (self, x):\n",
        "        out = self.fc1 (x)\n",
        "        out = self.relu1 (out)\n",
        "        out = self.fc2 (out)\n",
        "        return out\n",
        "\n"
      ]
    },
    {
      "cell_type": "code",
      "execution_count": 12,
      "metadata": {},
      "outputs": [],
      "source": [
        "model = Emotions (1150, 50, 7)"
      ]
    },
    {
      "cell_type": "code",
      "execution_count": 13,
      "metadata": {},
      "outputs": [],
      "source": [
        "import torch.utils\n",
        "\n",
        "batch_size = 50\n",
        "train_loader = torch.utils.data.DataLoader (dataset = df, batch_size=batch_size, shuffle =True)"
      ]
    }
  ],
  "metadata": {
    "accelerator": "GPU",
    "colab": {
      "gpuType": "T4",
      "provenance": []
    },
    "kernelspec": {
      "display_name": "Python 3",
      "name": "python3"
    },
    "language_info": {
      "codemirror_mode": {
        "name": "ipython",
        "version": 3
      },
      "file_extension": ".py",
      "mimetype": "text/x-python",
      "name": "python",
      "nbconvert_exporter": "python",
      "pygments_lexer": "ipython3",
      "version": "3.9.6"
    }
  },
  "nbformat": 4,
  "nbformat_minor": 0
}
