{
  "cells": [
    {
      "cell_type": "code",
      "execution_count": 1,
      "metadata": {
        "id": "SQgYNX8hfFqP"
      },
      "outputs": [],
      "source": [
        "import pandas as pd\n",
        "import numpy as np\n",
        "import re"
      ]
    },
    {
      "cell_type": "code",
      "execution_count": 2,
      "metadata": {
        "colab": {
          "base_uri": "https://localhost:8080/",
          "height": 74
        },
        "id": "7HZa4LDcfID3",
        "outputId": "aa17a3ff-55ea-4092-c274-f3af58002c81"
      },
      "outputs": [],
      "source": [
        "file_path = '/Users/diana/Desktop/isear-test.xlsx'\n",
        "custom_headers = ['Emotions', 'Text']\n",
        "df = pd.read_excel(file_path, skiprows=1, header=None, names=custom_headers)"
      ]
    },
    {
      "cell_type": "markdown",
      "metadata": {},
      "source": [
        "conda install openpyxl"
      ]
    },
    {
      "cell_type": "code",
      "execution_count": 3,
      "metadata": {
        "colab": {
          "base_uri": "https://localhost:8080/",
          "height": 206
        },
        "id": "Rr-bdNNbaIob",
        "outputId": "7ed4b80b-90df-4c29-efa6-027ed1464d4e"
      },
      "outputs": [
        {
          "data": {
            "text/html": [
              "<div>\n",
              "<style scoped>\n",
              "    .dataframe tbody tr th:only-of-type {\n",
              "        vertical-align: middle;\n",
              "    }\n",
              "\n",
              "    .dataframe tbody tr th {\n",
              "        vertical-align: top;\n",
              "    }\n",
              "\n",
              "    .dataframe thead th {\n",
              "        text-align: right;\n",
              "    }\n",
              "</style>\n",
              "<table border=\"1\" class=\"dataframe\">\n",
              "  <thead>\n",
              "    <tr style=\"text-align: right;\">\n",
              "      <th></th>\n",
              "      <th>Emotions</th>\n",
              "      <th>Text</th>\n",
              "    </tr>\n",
              "  </thead>\n",
              "  <tbody>\n",
              "    <tr>\n",
              "      <th>0</th>\n",
              "      <td>joy</td>\n",
              "      <td>My first feeling of falling in love.  Coming a...</td>\n",
              "    </tr>\n",
              "    <tr>\n",
              "      <th>1</th>\n",
              "      <td>joy</td>\n",
              "      <td>When I saw that the mark I had obtained in an ...</td>\n",
              "    </tr>\n",
              "    <tr>\n",
              "      <th>2</th>\n",
              "      <td>joy</td>\n",
              "      <td>When I learnt that I had been admitted to the ...</td>\n",
              "    </tr>\n",
              "    <tr>\n",
              "      <th>3</th>\n",
              "      <td>anger</td>\n",
              "      <td>In a hurry to get to lectures and the car woul...</td>\n",
              "    </tr>\n",
              "    <tr>\n",
              "      <th>4</th>\n",
              "      <td>guilt</td>\n",
              "      <td>Not attending school, when  am not sick - but ...</td>\n",
              "    </tr>\n",
              "  </tbody>\n",
              "</table>\n",
              "</div>"
            ],
            "text/plain": [
              "  Emotions                                               Text\n",
              "0      joy  My first feeling of falling in love.  Coming a...\n",
              "1      joy  When I saw that the mark I had obtained in an ...\n",
              "2      joy  When I learnt that I had been admitted to the ...\n",
              "3    anger  In a hurry to get to lectures and the car woul...\n",
              "4    guilt  Not attending school, when  am not sick - but ..."
            ]
          },
          "execution_count": 3,
          "metadata": {},
          "output_type": "execute_result"
        }
      ],
      "source": [
        "df.head ()"
      ]
    },
    {
      "cell_type": "code",
      "execution_count": 4,
      "metadata": {
        "id": "B1d3uUgTfS-8"
      },
      "outputs": [
        {
          "name": "stdout",
          "output_type": "stream",
          "text": [
            "1150\n"
          ]
        }
      ],
      "source": [
        "total_count = df['Emotions'].value_counts().sum()\n",
        "print (total_count)"
      ]
    },
    {
      "cell_type": "code",
      "execution_count": 5,
      "metadata": {
        "colab": {
          "base_uri": "https://localhost:8080/"
        },
        "id": "OGIwuydtf0jh",
        "outputId": "f48e5fa1-48ac-4dbb-c739-a51e8e330116"
      },
      "outputs": [
        {
          "data": {
            "text/plain": [
              "Emotions\n",
              "shame      182\n",
              "fear       168\n",
              "anger      166\n",
              "disgust    166\n",
              "sadness    161\n",
              "guilt      155\n",
              "joy        152\n",
              "Name: count, dtype: int64"
            ]
          },
          "execution_count": 5,
          "metadata": {},
          "output_type": "execute_result"
        }
      ],
      "source": [
        "df['Emotions'].value_counts()"
      ]
    },
    {
      "cell_type": "code",
      "execution_count": 6,
      "metadata": {},
      "outputs": [],
      "source": [
        "emotions_set = list (set (df['Emotions'].values))"
      ]
    },
    {
      "cell_type": "code",
      "execution_count": 7,
      "metadata": {},
      "outputs": [],
      "source": [
        "#print (df['Text'].dtype)\n",
        "df['Text'] = df['Text'].str.lower ()\n",
        "#print (df['Text'])\n",
        "\n",
        "text_column = df['Text']\n",
        "tokenized_text = text_column.str.split()\n",
        "\n",
        "for index, sentence in enumerate(tokenized_text):\n",
        "    emotion_label = df['Emotions'][index]\n",
        "    \n",
        "    #print(emotion_label, sentence)\n",
        "\n",
        "vocab = set() \n",
        "for tokens_list in tokenized_text:\n",
        "    for token in tokens_list:\n",
        "        if r'[^\\w\\s]' in token:\n",
        "            if re.search(r'[^\\w\\s]', token):\n",
        "                token = re.sub(r'[^\\w\\s]+$', '', token)\n",
        "                if token not in vocab:\n",
        "                    vocab.add (token[-1])\n",
        "        if token not in vocab:\n",
        "            vocab.add(token)\n",
        "#print (list(vocab))\n"
      ]
    },
    {
      "cell_type": "code",
      "execution_count": 8,
      "metadata": {},
      "outputs": [],
      "source": [
        "from math import log\n",
        "\n",
        "collection = [token for instance in tokenized_text for token in instance]\n",
        "\n",
        "#tf-idf\n",
        "\n",
        "def calculate_tfidf(token, document):\n",
        "    tf = document.count(token) / len(document)\n",
        "    idf = log(1 + (len(tokenized_text) / collection.count(token)))\n",
        "    tfidf = tf * idf\n",
        "    return tfidf\n",
        "\n",
        "tfidf_scores_list = []\n",
        "\n",
        "for instance in tokenized_text:\n",
        "        if token not in instance:\n",
        "            tfidf_scores = {token: calculate_tfidf(token, instance) for token in set(instance)}\n",
        "            #print (tfidf_scores)"
      ]
    },
    {
      "cell_type": "code",
      "execution_count": 9,
      "metadata": {},
      "outputs": [],
      "source": [
        "#conda install scikit-learn"
      ]
    },
    {
      "cell_type": "code",
      "execution_count": 10,
      "metadata": {},
      "outputs": [],
      "source": [
        "#import sklearn"
      ]
    },
    {
      "cell_type": "code",
      "execution_count": 11,
      "metadata": {},
      "outputs": [
        {
          "data": {
            "text/plain": [
              "'from sklearn.feature_extraction.text import TfidfVectorizer\\n\\n\\ntfidf_vectorizer = TfidfVectorizer()\\n\\n# Fit and transform the corpus to obtain the TF-IDF sparse matrix\\ntfidf_matrix_sparse = tfidf_vectorizer.fit_transform(sentence)\\n\\n#tfidf_vector_first_sentence = tfidf_matrix_sparse[0]\\n#print(\"First\", tfidf_vector_first_sentence)\\nprint (tfidf_matrix_sparse)'"
            ]
          },
          "execution_count": 11,
          "metadata": {},
          "output_type": "execute_result"
        }
      ],
      "source": [
        "\"\"\"from sklearn.feature_extraction.text import TfidfVectorizer\n",
        "\n",
        "\n",
        "tfidf_vectorizer = TfidfVectorizer()\n",
        "\n",
        "# Fit and transform the corpus to obtain the TF-IDF sparse matrix\n",
        "tfidf_matrix_sparse = tfidf_vectorizer.fit_transform(sentence)\n",
        "\n",
        "#tfidf_vector_first_sentence = tfidf_matrix_sparse[0]\n",
        "#print(\"First\", tfidf_vector_first_sentence)\n",
        "print (tfidf_matrix_sparse)\"\"\"\n",
        "\n"
      ]
    },
    {
      "cell_type": "code",
      "execution_count": 12,
      "metadata": {},
      "outputs": [],
      "source": [
        "import torch\n",
        "import torch.nn as nn\n",
        "import matplotlib.pyplot as plt\n",
        "\n",
        "from torch.autograd import Variable"
      ]
    },
    {
      "cell_type": "code",
      "execution_count": 13,
      "metadata": {},
      "outputs": [],
      "source": [
        "class Emotions (nn.Module):\n",
        "\n",
        "    def __init__(self, input_size, hidden_1, output_size):\n",
        "\n",
        "        super (Emotions, self).__init__()\n",
        "        self.fc1 = nn.Linear (input_size, hidden_1)\n",
        "        self.relu1 = nn.ReLU()\n",
        "        self.fc2 = nn.Linear (hidden_1, output_size)\n",
        "    def forward (self, x):\n",
        "        out = self.fc1 (x)\n",
        "        out = self.relu1 (out)\n",
        "        out = self.fc2 (out)\n",
        "        return out\n",
        "\n"
      ]
    },
    {
      "cell_type": "code",
      "execution_count": 14,
      "metadata": {},
      "outputs": [],
      "source": [
        "model = Emotions (1150, 50, 7)"
      ]
    },
    {
      "cell_type": "code",
      "execution_count": 15,
      "metadata": {},
      "outputs": [],
      "source": [
        "import torch.utils\n",
        "\n",
        "batch_size = 50\n",
        "train_loader = torch.utils.data.DataLoader (dataset = df, batch_size=batch_size, shuffle =True)"
      ]
    }
  ],
  "metadata": {
    "accelerator": "GPU",
    "colab": {
      "gpuType": "T4",
      "provenance": []
    },
    "kernelspec": {
      "display_name": "Python 3",
      "name": "python3"
    },
    "language_info": {
      "codemirror_mode": {
        "name": "ipython",
        "version": 3
      },
      "file_extension": ".py",
      "mimetype": "text/x-python",
      "name": "python",
      "nbconvert_exporter": "python",
      "pygments_lexer": "ipython3",
      "version": "3.9.6"
    }
  },
  "nbformat": 4,
  "nbformat_minor": 0
}
