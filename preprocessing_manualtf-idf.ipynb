{
  "cells": [
    {
      "cell_type": "code",
      "execution_count": 32,
      "metadata": {
        "id": "SQgYNX8hfFqP"
      },
      "outputs": [],
      "source": [
        "import pandas as pd\n",
        "import numpy as np"
      ]
    },
    {
      "cell_type": "code",
      "execution_count": 33,
      "metadata": {
        "colab": {
          "base_uri": "https://localhost:8080/",
          "height": 74
        },
        "id": "7HZa4LDcfID3",
        "outputId": "aa17a3ff-55ea-4092-c274-f3af58002c81"
      },
      "outputs": [],
      "source": [
        "file_path = '/Users/diana/Desktop/isear-train.xlsx'\n",
        "custom_headers = ['Emotions', 'Text']\n",
        "df = pd.read_excel(file_path, skiprows=1, header=None, names=custom_headers)"
      ]
    },
    {
      "cell_type": "markdown",
      "metadata": {},
      "source": [
        "conda install openpyxl"
      ]
    },
    {
      "cell_type": "code",
      "execution_count": 34,
      "metadata": {
        "colab": {
          "base_uri": "https://localhost:8080/",
          "height": 206
        },
        "id": "Rr-bdNNbaIob",
        "outputId": "7ed4b80b-90df-4c29-efa6-027ed1464d4e"
      },
      "outputs": [
        {
          "data": {
            "text/html": [
              "<div>\n",
              "<style scoped>\n",
              "    .dataframe tbody tr th:only-of-type {\n",
              "        vertical-align: middle;\n",
              "    }\n",
              "\n",
              "    .dataframe tbody tr th {\n",
              "        vertical-align: top;\n",
              "    }\n",
              "\n",
              "    .dataframe thead th {\n",
              "        text-align: right;\n",
              "    }\n",
              "</style>\n",
              "<table border=\"1\" class=\"dataframe\">\n",
              "  <thead>\n",
              "    <tr style=\"text-align: right;\">\n",
              "      <th></th>\n",
              "      <th>Emotions</th>\n",
              "      <th>Text</th>\n",
              "    </tr>\n",
              "  </thead>\n",
              "  <tbody>\n",
              "    <tr>\n",
              "      <th>0</th>\n",
              "      <td>sadness</td>\n",
              "      <td>Losing my girlfriend who made an end to our re...</td>\n",
              "    </tr>\n",
              "    <tr>\n",
              "      <th>1</th>\n",
              "      <td>disgust</td>\n",
              "      <td>[ No response.]</td>\n",
              "    </tr>\n",
              "    <tr>\n",
              "      <th>2</th>\n",
              "      <td>fear</td>\n",
              "      <td>Staying alone in a dark place.</td>\n",
              "    </tr>\n",
              "    <tr>\n",
              "      <th>3</th>\n",
              "      <td>shame</td>\n",
              "      <td>When I failed grade 7.</td>\n",
              "    </tr>\n",
              "    <tr>\n",
              "      <th>4</th>\n",
              "      <td>anger</td>\n",
              "      <td>I am a teacher in arts and crafts (boys from 1...</td>\n",
              "    </tr>\n",
              "  </tbody>\n",
              "</table>\n",
              "</div>"
            ],
            "text/plain": [
              "  Emotions                                               Text\n",
              "0  sadness  Losing my girlfriend who made an end to our re...\n",
              "1  disgust                                    [ No response.]\n",
              "2     fear                     Staying alone in a dark place.\n",
              "3    shame                             When I failed grade 7.\n",
              "4    anger  I am a teacher in arts and crafts (boys from 1..."
            ]
          },
          "execution_count": 34,
          "metadata": {},
          "output_type": "execute_result"
        }
      ],
      "source": [
        "df.head ()"
      ]
    },
    {
      "cell_type": "code",
      "execution_count": 35,
      "metadata": {
        "id": "B1d3uUgTfS-8"
      },
      "outputs": [
        {
          "name": "stdout",
          "output_type": "stream",
          "text": [
            "5366\n"
          ]
        }
      ],
      "source": [
        "total_count = df['Emotions'].value_counts().sum()\n",
        "print (total_count)"
      ]
    },
    {
      "cell_type": "code",
      "execution_count": 36,
      "metadata": {
        "colab": {
          "base_uri": "https://localhost:8080/"
        },
        "id": "OGIwuydtf0jh",
        "outputId": "f48e5fa1-48ac-4dbb-c739-a51e8e330116"
      },
      "outputs": [
        {
          "data": {
            "text/plain": [
              "Emotions\n",
              "sadness    775\n",
              "fear       770\n",
              "guilt      767\n",
              "shame      765\n",
              "anger      764\n",
              "joy        764\n",
              "disgust    761\n",
              "Name: count, dtype: int64"
            ]
          },
          "execution_count": 36,
          "metadata": {},
          "output_type": "execute_result"
        }
      ],
      "source": [
        "df['Emotions'].value_counts()\n"
      ]
    },
    {
      "cell_type": "code",
      "execution_count": 37,
      "metadata": {},
      "outputs": [
        {
          "name": "stdout",
          "output_type": "stream",
          "text": [
            "0       sadness\n",
            "1       disgust\n",
            "2          fear\n",
            "3         shame\n",
            "4         anger\n",
            "         ...   \n",
            "5361       fear\n",
            "5362      anger\n",
            "5363    sadness\n",
            "5364    disgust\n",
            "5365       fear\n",
            "Name: Emotions, Length: 5366, dtype: object\n",
            "(5366,)\n",
            "['sadness' 'disgust' 'fear' ... 'sadness' 'disgust' 'fear']\n"
          ]
        }
      ],
      "source": [
        "print (df['Emotions'])\n",
        "print (df['Emotions'].shape)\n",
        "print (df['Emotions'].values)"
      ]
    },
    {
      "cell_type": "code",
      "execution_count": 38,
      "metadata": {},
      "outputs": [],
      "source": [
        "emotion_labels = list (set (df['Emotions'].values))"
      ]
    },
    {
      "cell_type": "code",
      "execution_count": 39,
      "metadata": {},
      "outputs": [],
      "source": [
        "\n",
        "\n",
        "def tokenize(text):\n",
        "    translation_table = str.maketrans({c: f' {c} ' if not c.isalnum() else c for c in set(text)})  # creates translation\n",
        "    # table(dictionary) with the built-in function maketrans, set(text) makes an unordered collection of unique\n",
        "    # elements through set comprehension, a concise way to create sets\n",
        "    tokenized_text = text.translate(translation_table)  # uses translation table to add whitespace around special\n",
        "    # characters and punctuation\n",
        "    return tokenized_text.strip().lower().split()  # split-tokens split on space, lower-tokens made all lowercase,\n",
        "    # strip-and leading or trailing whitespaces are removed from string\n",
        "\n",
        "\n",
        "#extract dict\n",
        "text = ''.join(df['Text'].astype(str))\n",
        "tokenized_text = tokenize(text) #all tokens, including repeating\n",
        "#print (tokenized_text)\n",
        "vocab = set(tokenized_text)\n",
        "#print(vocab)\n",
        "\n",
        "tokenized_text = []\n",
        "for index, sentence in enumerate(df['Text']):\n",
        "    emotion_label = df['Emotions'][index]\n",
        "    sentence = tokenize(sentence)\n",
        "    tokenized_text.append (sentence)\n",
        "    #print(emotion_label, sentence)\n",
        "#print (tokenized_text)\n"
      ]
    },
    {
      "cell_type": "code",
      "execution_count": 41,
      "metadata": {},
      "outputs": [],
      "source": [
        "from math import log\n",
        "\n",
        "collection = [token for instance in tokenized_text for token in instance]\n",
        "\n",
        "#tf-idf\n",
        "\n",
        "def calculate_tfidf(token, document):\n",
        "    tf = np.log(document.count(token) / len(document)) if token in document else 0 # 1+log(#oftimestokenindoc/total#termsindoc)\n",
        "    idf = log (1 + (len(tokenized_text) / collection.count(token))) # log(#ofdocs/#oftimestokenappearsincollection)\n",
        "    tfidf = tf * idf\n",
        "    return tfidf\n",
        "\n",
        "tfidf_scores_list = []\n",
        "for sentence in tokenized_text:\n",
        "        tfidf_scores = {token: calculate_tfidf(token, sentence) for token in set(sentence)}\n",
        "        tfidf_scores_list.append (tfidf_scores)\n",
        "#print (tfidf_scores_list)\n"
      ]
    },
    {
      "cell_type": "code",
      "execution_count": 42,
      "metadata": {},
      "outputs": [
        {
          "name": "stdout",
          "output_type": "stream",
          "text": [
            "  (0, 103)\t-3.390157501177657\n",
            "  (0, 150)\t-11.678476673570804\n",
            "  (0, 449)\t-1.2184716044643313\n",
            "  (0, 456)\t-30.28447013048586\n",
            "  (0, 500)\t-3.45916834149466\n",
            "  (0, 793)\t-22.541516563613403\n",
            "  (0, 1011)\t-15.107739666568516\n",
            "  (0, 1209)\t-11.54723730712528\n",
            "  (0, 1635)\t-3.3738515713905723\n",
            "  (0, 1744)\t-1.5097589425443292\n",
            "  (0, 1796)\t-14.552470884076424\n",
            "  (0, 1845)\t-20.517164637414933\n",
            "  (0, 1987)\t-4.462081057794252\n",
            "  (0, 2744)\t-26.411680969086532\n",
            "  (0, 2896)\t-22.541516563613403\n",
            "  (0, 3007)\t-30.28447013048586\n",
            "  (0, 3362)\t-30.28447013048586\n",
            "  (0, 3419)\t-14.323756562375893\n",
            "  (0, 3809)\t-13.073665663494369\n",
            "  (0, 3963)\t-17.39031069764966\n",
            "  (0, 4143)\t-9.821200355624516\n",
            "  (0, 5473)\t-5.252881165518687\n",
            "  (0, 5533)\t-7.6915332074665645\n",
            "  (0, 5788)\t-6.78703851313937\n",
            "  (0, 5883)\t-9.017159890762102\n",
            "  :\t:\n",
            "  (5365, 449)\t-1.7548752030203894\n",
            "  (5365, 500)\t-3.4298842044059197\n",
            "  (5365, 770)\t-12.88804538355454\n",
            "  (5365, 853)\t-13.790087239012053\n",
            "  (5365, 986)\t-30.028092155374704\n",
            "  (5365, 1231)\t-8.807941061382586\n",
            "  (5365, 1635)\t-3.3452896969225105\n",
            "  (5365, 1734)\t-14.239252248747531\n",
            "  (5365, 1744)\t-1.2777872301734727\n",
            "  (5365, 1954)\t-30.028092155374704\n",
            "  (5365, 1987)\t-4.424306604371421\n",
            "  (5365, 2209)\t-22.76186648865502\n",
            "  (5365, 2288)\t-12.559071362897189\n",
            "  (5365, 2325)\t-2.8366912379285147\n",
            "  (5365, 2900)\t-2.771905653193899\n",
            "  (5365, 3751)\t-15.550860935042278\n",
            "  (5365, 4147)\t-11.189188689450278\n",
            "  (5365, 5370)\t-23.766447519913687\n",
            "  (5365, 5698)\t-27.605149219335186\n",
            "  (5365, 5730)\t-2.312786142177422\n",
            "  (5365, 5958)\t-30.028092155374704\n",
            "  (5365, 6098)\t-18.040619988081804\n",
            "  (5365, 6463)\t-10.230489849391928\n",
            "  (5365, 6646)\t-16.114938482669114\n",
            "  (5365, 7322)\t-11.00341895538599\n"
          ]
        }
      ],
      "source": [
        "from scipy.sparse import csr_matrix\n",
        "\n",
        "# Construct a vocabulary list from the tfidf_scores_list\n",
        "vocab = list(set(token for scores in tfidf_scores_list for token in scores.keys()))\n",
        "\n",
        "# Construct a mapping from term to column index\n",
        "term_to_col = {term: idx for idx, term in enumerate(vocab)}\n",
        "\n",
        "# Convert the list of TF-IDF scores into a CSR sparse matrix\n",
        "n_docs = len(tfidf_scores_list)\n",
        "n_terms = len(vocab)\n",
        "rows = []\n",
        "cols = []\n",
        "data = []\n",
        "for doc_idx, scores in enumerate(tfidf_scores_list):\n",
        "    for term, tfidf in scores.items():\n",
        "        col_idx = term_to_col[term]\n",
        "        rows.append(doc_idx)\n",
        "        cols.append(col_idx)\n",
        "        data.append(tfidf)\n",
        "\n",
        "X_tfidf_sparse = csr_matrix((data, (rows, cols)), shape=(n_docs, n_terms))\n",
        "\n",
        "print (X_tfidf_sparse)"
      ]
    },
    {
      "cell_type": "code",
      "execution_count": 43,
      "metadata": {},
      "outputs": [],
      "source": [
        "from sklearn.feature_extraction.text import CountVectorizer, TfidfTransformer\n",
        "from scipy.sparse import csr_matrix\n",
        "\n",
        "# Convert the list of tokenized sentences into a list of strings\n",
        "\"\"\"corpus = [' '.join(sentence) for sentence in tokenized_text]\n",
        "\n",
        "# Create a CountVectorizer to convert the corpus into a document-term matrix\n",
        "count_vectorizer = CountVectorizer(vocabulary=vocab)\n",
        "X_count = count_vectorizer.fit_transform(corpus)\n",
        "\n",
        "# Create a TfidfTransformer to compute the TF-IDF scores\n",
        "tfidf_transformer = TfidfTransformer()\n",
        "X_tfidf = tfidf_transformer.fit_transform(X_count)\n",
        "\n",
        "# Convert the TF-IDF matrix to CSR format if needed\n",
        "if not isinstance(X_tfidf, csr_matrix):\n",
        "    X_tfidf = X_tfidf.tocsr()\"\"\"\n",
        "\n",
        "#print (corpus)\n",
        "#print(X_tfidf)\n",
        "\n",
        "y = df['Emotions'].values\n"
      ]
    },
    {
      "cell_type": "code",
      "execution_count": null,
      "metadata": {},
      "outputs": [
        {
          "data": {
            "text/plain": [
              "\"tfidf_df = pd.DataFrame(X_tfidf)\\n\\ntfidf_df.to_csv('tfidf_representations.csv', index=False)\\n\\ntfidf_df.to_excel('tfidf_representations.xlsx', index=False)\""
            ]
          },
          "execution_count": 30,
          "metadata": {},
          "output_type": "execute_result"
        }
      ],
      "source": [
        "tfidf_df = pd.DataFrame(X_tfidf)\n",
        "\n",
        "tfidf_df.to_csv('tfidf_representations.csv', index=False)\n",
        "\n",
        "tfidf_df.to_excel('tfidf_representations.xlsx', index=False)"
      ]
    },
    {
      "cell_type": "code",
      "execution_count": 44,
      "metadata": {},
      "outputs": [
        {
          "name": "stdout",
          "output_type": "stream",
          "text": [
            "Stored 'X_tfidf' (csr_matrix)\n",
            "Stored 'X_tfidf_sparse' (csr_matrix)\n",
            "Stored 'y' (ndarray)\n"
          ]
        }
      ],
      "source": [
        "%store X_tfidf\n",
        "%store X_tfidf_sparse\n",
        "%store y"
      ]
    },
    {
      "cell_type": "markdown",
      "metadata": {},
      "source": []
    }
  ],
  "metadata": {
    "accelerator": "GPU",
    "colab": {
      "gpuType": "T4",
      "provenance": []
    },
    "kernelspec": {
      "display_name": "Python 3",
      "name": "python3"
    },
    "language_info": {
      "codemirror_mode": {
        "name": "ipython",
        "version": 3
      },
      "file_extension": ".py",
      "mimetype": "text/x-python",
      "name": "python",
      "nbconvert_exporter": "python",
      "pygments_lexer": "ipython3",
      "version": "3.10.13"
    }
  },
  "nbformat": 4,
  "nbformat_minor": 0
}
