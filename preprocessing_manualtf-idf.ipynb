{
  "cells": [
    {
      "cell_type": "code",
      "execution_count": 2,
      "metadata": {
        "id": "SQgYNX8hfFqP"
      },
      "outputs": [],
      "source": [
        "import pandas as pd\n",
        "import numpy as np"
      ]
    },
    {
      "cell_type": "code",
      "execution_count": 3,
      "metadata": {
        "colab": {
          "base_uri": "https://localhost:8080/",
          "height": 74
        },
        "id": "7HZa4LDcfID3",
        "outputId": "aa17a3ff-55ea-4092-c274-f3af58002c81"
      },
      "outputs": [],
      "source": [
        "file_path = '/Users/diana/Desktop/isear-train.xlsx'\n",
        "custom_headers = ['Emotions', 'Text']\n",
        "df = pd.read_excel(file_path, skiprows=1, header=None, names=custom_headers)"
      ]
    },
    {
      "cell_type": "markdown",
      "metadata": {},
      "source": [
        "conda install openpyxl"
      ]
    },
    {
      "cell_type": "code",
      "execution_count": 4,
      "metadata": {
        "colab": {
          "base_uri": "https://localhost:8080/",
          "height": 206
        },
        "id": "Rr-bdNNbaIob",
        "outputId": "7ed4b80b-90df-4c29-efa6-027ed1464d4e"
      },
      "outputs": [
        {
          "data": {
            "text/html": [
              "<div>\n",
              "<style scoped>\n",
              "    .dataframe tbody tr th:only-of-type {\n",
              "        vertical-align: middle;\n",
              "    }\n",
              "\n",
              "    .dataframe tbody tr th {\n",
              "        vertical-align: top;\n",
              "    }\n",
              "\n",
              "    .dataframe thead th {\n",
              "        text-align: right;\n",
              "    }\n",
              "</style>\n",
              "<table border=\"1\" class=\"dataframe\">\n",
              "  <thead>\n",
              "    <tr style=\"text-align: right;\">\n",
              "      <th></th>\n",
              "      <th>Emotions</th>\n",
              "      <th>Text</th>\n",
              "    </tr>\n",
              "  </thead>\n",
              "  <tbody>\n",
              "    <tr>\n",
              "      <th>0</th>\n",
              "      <td>sadness</td>\n",
              "      <td>Losing my girlfriend who made an end to our re...</td>\n",
              "    </tr>\n",
              "    <tr>\n",
              "      <th>1</th>\n",
              "      <td>disgust</td>\n",
              "      <td>[ No response.]</td>\n",
              "    </tr>\n",
              "    <tr>\n",
              "      <th>2</th>\n",
              "      <td>fear</td>\n",
              "      <td>Staying alone in a dark place.</td>\n",
              "    </tr>\n",
              "    <tr>\n",
              "      <th>3</th>\n",
              "      <td>shame</td>\n",
              "      <td>When I failed grade 7.</td>\n",
              "    </tr>\n",
              "    <tr>\n",
              "      <th>4</th>\n",
              "      <td>anger</td>\n",
              "      <td>I am a teacher in arts and crafts (boys from 1...</td>\n",
              "    </tr>\n",
              "  </tbody>\n",
              "</table>\n",
              "</div>"
            ],
            "text/plain": [
              "  Emotions                                               Text\n",
              "0  sadness  Losing my girlfriend who made an end to our re...\n",
              "1  disgust                                    [ No response.]\n",
              "2     fear                     Staying alone in a dark place.\n",
              "3    shame                             When I failed grade 7.\n",
              "4    anger  I am a teacher in arts and crafts (boys from 1..."
            ]
          },
          "execution_count": 4,
          "metadata": {},
          "output_type": "execute_result"
        }
      ],
      "source": [
        "df.head ()"
      ]
    },
    {
      "cell_type": "code",
      "execution_count": 5,
      "metadata": {
        "id": "B1d3uUgTfS-8"
      },
      "outputs": [
        {
          "name": "stdout",
          "output_type": "stream",
          "text": [
            "5366\n"
          ]
        }
      ],
      "source": [
        "total_count = df['Emotions'].value_counts().sum()\n",
        "print (total_count)"
      ]
    },
    {
      "cell_type": "code",
      "execution_count": 6,
      "metadata": {
        "colab": {
          "base_uri": "https://localhost:8080/"
        },
        "id": "OGIwuydtf0jh",
        "outputId": "f48e5fa1-48ac-4dbb-c739-a51e8e330116"
      },
      "outputs": [
        {
          "data": {
            "text/plain": [
              "Emotions\n",
              "sadness    775\n",
              "fear       770\n",
              "guilt      767\n",
              "shame      765\n",
              "anger      764\n",
              "joy        764\n",
              "disgust    761\n",
              "Name: count, dtype: int64"
            ]
          },
          "execution_count": 6,
          "metadata": {},
          "output_type": "execute_result"
        }
      ],
      "source": [
        "df['Emotions'].value_counts()\n"
      ]
    },
    {
      "cell_type": "code",
      "execution_count": 7,
      "metadata": {},
      "outputs": [
        {
          "name": "stdout",
          "output_type": "stream",
          "text": [
            "0       sadness\n",
            "1       disgust\n",
            "2          fear\n",
            "3         shame\n",
            "4         anger\n",
            "         ...   \n",
            "5361       fear\n",
            "5362      anger\n",
            "5363    sadness\n",
            "5364    disgust\n",
            "5365       fear\n",
            "Name: Emotions, Length: 5366, dtype: object\n",
            "(5366,)\n",
            "['sadness' 'disgust' 'fear' ... 'sadness' 'disgust' 'fear']\n"
          ]
        }
      ],
      "source": [
        "print (df['Emotions'])\n",
        "print (df['Emotions'].shape)\n",
        "print (df['Emotions'].values)"
      ]
    },
    {
      "cell_type": "code",
      "execution_count": 8,
      "metadata": {},
      "outputs": [],
      "source": [
        "emotion_labels = list (set (df['Emotions'].values))"
      ]
    },
    {
      "cell_type": "code",
      "execution_count": 9,
      "metadata": {},
      "outputs": [],
      "source": [
        "\n",
        "\n",
        "def tokenize(text):\n",
        "    translation_table = str.maketrans({c: f' {c} ' if not c.isalnum() else c for c in set(text)})  # creates translation\n",
        "    # table(dictionary) with the built-in function maketrans, set(text) makes an unordered collection of unique\n",
        "    # elements through set comprehension, a concise way to create sets\n",
        "    tokenized_text = text.translate(translation_table)  # uses translation table to add whitespace around special\n",
        "    # characters and punctuation\n",
        "    return tokenized_text.strip().lower().split()  # split-tokens split on space, lower-tokens made all lowercase,\n",
        "    # strip-and leading or trailing whitespaces are removed from string\n",
        "\n",
        "\n",
        "#extract dict\n",
        "text = ''.join(df['Text'].astype(str))\n",
        "tokenized_text = tokenize(text) #all tokens, including repeating\n",
        "#print (tokenized_text)\n",
        "vocab = set(tokenized_text)\n",
        "#print(vocab)\n",
        "\n",
        "tokenized_text = []\n",
        "for index, sentence in enumerate(df['Text']):\n",
        "    emotion_label = df['Emotions'][index]\n",
        "    sentence = tokenize(sentence)\n",
        "    tokenized_text.append (sentence)\n",
        "    #print(emotion_label, sentence)\n",
        "#print (tokenized_text)\n"
      ]
    },
    {
      "cell_type": "code",
      "execution_count": 10,
      "metadata": {},
      "outputs": [],
      "source": [
        "from math import log\n",
        "\n",
        "collection = [token for instance in tokenized_text for token in instance]\n",
        "\n",
        "#tf-idf\n",
        "\n",
        "def calculate_tfidf(token, document):\n",
        "    #tf = np.log(document.count(token) / len(document)) if token in document else 0 # 1+log(#oftimestokenindoc/total#termsindoc)\n",
        "    tf = document.count(token) / len(document)\n",
        "    idf = log (1 + (len(tokenized_text) / collection.count(token))) # log(#ofdocs/#oftimestokenappearsincollection)\n",
        "    tfidf = tf * idf\n",
        "    return tfidf\n",
        "\n",
        "tfidf_scores_list = []\n",
        "for sentence in tokenized_text:\n",
        "        tfidf_scores = {token: calculate_tfidf(token, sentence) for token in set(sentence)}\n",
        "        tfidf_scores_list.append (tfidf_scores)\n",
        "#print (tfidf_scores_list)\n"
      ]
    },
    {
      "cell_type": "code",
      "execution_count": 11,
      "metadata": {},
      "outputs": [
        {
          "name": "stdout",
          "output_type": "stream",
          "text": [
            "  (0, 501)\t0.2525889521228479\n",
            "  (0, 534)\t0.12137552202727434\n",
            "  (0, 559)\t0.11946792019026316\n",
            "  (0, 610)\t0.2202877841692488\n",
            "  (0, 1061)\t0.2525889521228479\n",
            "  (0, 1432)\t0.03134580378415336\n",
            "  (0, 1828)\t0.028851345353904934\n",
            "  (0, 1972)\t0.17721495308269722\n",
            "  (0, 2014)\t0.18800850810763658\n",
            "  (0, 2023)\t0.14504464952775478\n",
            "  (0, 2102)\t0.18800850810763658\n",
            "  (0, 3129)\t0.0963102394974555\n",
            "  (0, 3559)\t0.12600676567498867\n",
            "  (0, 3594)\t0.06415157025106248\n",
            "  (0, 3683)\t0.14288132351292446\n",
            "  (0, 3863)\t0.08191415255829469\n",
            "  (0, 4056)\t0.09740484719258474\n",
            "  (0, 4163)\t0.14091334153638377\n",
            "  (0, 4170)\t0.02827575741177872\n",
            "  (0, 4374)\t0.04381188587772471\n",
            "  (0, 4438)\t0.07520801777670834\n",
            "  (0, 4658)\t0.03721618287588566\n",
            "  (0, 4804)\t0.17112431203079617\n",
            "  (0, 5472)\t0.10904148218932437\n",
            "  (0, 5717)\t0.03333307662509752\n",
            "  :\t:\n",
            "  (5365, 1119)\t0.10884515860396833\n",
            "  (5365, 1148)\t0.024584628813797117\n",
            "  (5365, 1364)\t0.1972692802271394\n",
            "  (5365, 1399)\t0.0969728559032565\n",
            "  (5365, 1432)\t0.04844351493914611\n",
            "  (5365, 1546)\t0.05992603846296294\n",
            "  (5365, 1828)\t0.02972562854644751\n",
            "  (5365, 1843)\t0.2602431627932372\n",
            "  (5365, 1896)\t0.08866414228229019\n",
            "  (5365, 2122)\t0.11951395046031271\n",
            "  (5365, 2311)\t0.33619524151255215\n",
            "  (5365, 2513)\t0.23924434842701736\n",
            "  (5365, 3272)\t0.15635185812525748\n",
            "  (5365, 3589)\t0.20597563904288102\n",
            "  (5365, 4658)\t0.038343945993336744\n",
            "  (5365, 4703)\t0.13966263781422478\n",
            "  (5365, 5286)\t0.18500500566790334\n",
            "  (5365, 5515)\t0.09536285341312174\n",
            "  (5365, 5737)\t0.08016089457194875\n",
            "  (5365, 5779)\t0.2602431627932372\n",
            "  (5365, 6425)\t0.11169626346836288\n",
            "  (5365, 6724)\t0.028992477000604856\n",
            "  (5365, 6933)\t0.12340670935237885\n",
            "  (5365, 7158)\t0.015208900744621803\n",
            "  (5365, 7454)\t0.07633540045268401\n"
          ]
        }
      ],
      "source": [
        "from scipy.sparse import csr_matrix\n",
        "\n",
        "# Construct a vocabulary list from the tfidf_scores_list\n",
        "vocab = list(set(token for scores in tfidf_scores_list for token in scores.keys()))\n",
        "\n",
        "# Construct a mapping from term to column index\n",
        "term_to_col = {term: idx for idx, term in enumerate(vocab)}\n",
        "\n",
        "# Convert the list of TF-IDF scores into a CSR sparse matrix\n",
        "n_docs = len(tfidf_scores_list)\n",
        "n_terms = len(vocab)\n",
        "rows = []\n",
        "cols = []\n",
        "data = []\n",
        "for doc_idx, scores in enumerate(tfidf_scores_list):\n",
        "    for term, tfidf in scores.items():\n",
        "        col_idx = term_to_col[term]\n",
        "        rows.append(doc_idx)\n",
        "        cols.append(col_idx)\n",
        "        data.append(tfidf)\n",
        "\n",
        "X_tfidf_sparse = csr_matrix((data, (rows, cols)), shape=(n_docs, n_terms))\n",
        "\n",
        "print (X_tfidf_sparse)"
      ]
    },
    {
      "cell_type": "code",
      "execution_count": 12,
      "metadata": {},
      "outputs": [],
      "source": [
        "from sklearn.feature_extraction.text import CountVectorizer, TfidfTransformer\n",
        "from scipy.sparse import csr_matrix\n",
        "\n",
        "# Convert the list of tokenized sentences into a list of strings\n",
        "\"\"\"corpus = [' '.join(sentence) for sentence in tokenized_text]\n",
        "\n",
        "# Create a CountVectorizer to convert the corpus into a document-term matrix\n",
        "count_vectorizer = CountVectorizer(vocabulary=vocab)\n",
        "X_count = count_vectorizer.fit_transform(corpus)\n",
        "\n",
        "# Create a TfidfTransformer to compute the TF-IDF scores\n",
        "tfidf_transformer = TfidfTransformer()\n",
        "X_tfidf = tfidf_transformer.fit_transform(X_count)\n",
        "\n",
        "# Convert the TF-IDF matrix to CSR format if needed\n",
        "if not isinstance(X_tfidf, csr_matrix):\n",
        "    X_tfidf = X_tfidf.tocsr()\"\"\"\n",
        "\n",
        "#print (corpus)\n",
        "#print(X_tfidf)\n",
        "\n",
        "y = df['Emotions'].values\n"
      ]
    },
    {
      "cell_type": "code",
      "execution_count": 14,
      "metadata": {},
      "outputs": [
        {
          "data": {
            "text/plain": [
              "\"tfidf_df = pd.DataFrame(X_tfidf)\\n\\ntfidf_df.to_csv('tfidf_representations.csv', index=False)\\n\\ntfidf_df.to_excel('tfidf_representations.xlsx', index=False)\""
            ]
          },
          "execution_count": 14,
          "metadata": {},
          "output_type": "execute_result"
        }
      ],
      "source": [
        "\"\"\"tfidf_df = pd.DataFrame(X_tfidf)\n",
        "\n",
        "tfidf_df.to_csv('tfidf_representations.csv', index=False)\n",
        "\n",
        "tfidf_df.to_excel('tfidf_representations.xlsx', index=False)\"\"\""
      ]
    },
    {
      "cell_type": "code",
      "execution_count": 15,
      "metadata": {},
      "outputs": [
        {
          "name": "stderr",
          "output_type": "stream",
          "text": [
            "UsageError: Unknown variable 'X_tfidf'\n"
          ]
        }
      ],
      "source": [
        "#%store X_tfidf\n",
        "%store X_tfidf_sparse\n",
        "%store y"
      ]
    },
    {
      "cell_type": "markdown",
      "metadata": {},
      "source": []
    }
  ],
  "metadata": {
    "accelerator": "GPU",
    "colab": {
      "gpuType": "T4",
      "provenance": []
    },
    "kernelspec": {
      "display_name": "Python 3",
      "name": "python3"
    },
    "language_info": {
      "codemirror_mode": {
        "name": "ipython",
        "version": 3
      },
      "file_extension": ".py",
      "mimetype": "text/x-python",
      "name": "python",
      "nbconvert_exporter": "python",
      "pygments_lexer": "ipython3",
      "version": "3.10.13"
    }
  },
  "nbformat": 4,
  "nbformat_minor": 0
}
