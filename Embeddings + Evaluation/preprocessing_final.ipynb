{
  "cells": [
    {
      "cell_type": "code",
      "execution_count": 1,
      "metadata": {
        "id": "SQgYNX8hfFqP"
      },
      "outputs": [],
      "source": [
        "import pandas as pd\n",
        "import numpy as np"
      ]
    },
    {
      "cell_type": "code",
      "execution_count": 2,
      "metadata": {
        "colab": {
          "base_uri": "https://localhost:8080/",
          "height": 74
        },
        "id": "7HZa4LDcfID3",
        "outputId": "aa17a3ff-55ea-4092-c274-f3af58002c81"
      },
      "outputs": [],
      "source": [
        "#Loading the training file\n",
        "file_path = '/Users/diana/Desktop/isear-train.xlsx'\n",
        "custom_headers = ['Emotions', 'Text']\n",
        "df = pd.read_excel(file_path, skiprows=1, header=None, names=custom_headers)"
      ]
    },
    {
      "cell_type": "code",
      "execution_count": 3,
      "metadata": {
        "colab": {
          "base_uri": "https://localhost:8080/",
          "height": 206
        },
        "id": "Rr-bdNNbaIob",
        "outputId": "7ed4b80b-90df-4c29-efa6-027ed1464d4e"
      },
      "outputs": [
        {
          "data": {
            "text/html": [
              "<div>\n",
              "<style scoped>\n",
              "    .dataframe tbody tr th:only-of-type {\n",
              "        vertical-align: middle;\n",
              "    }\n",
              "\n",
              "    .dataframe tbody tr th {\n",
              "        vertical-align: top;\n",
              "    }\n",
              "\n",
              "    .dataframe thead th {\n",
              "        text-align: right;\n",
              "    }\n",
              "</style>\n",
              "<table border=\"1\" class=\"dataframe\">\n",
              "  <thead>\n",
              "    <tr style=\"text-align: right;\">\n",
              "      <th></th>\n",
              "      <th>Emotions</th>\n",
              "      <th>Text</th>\n",
              "    </tr>\n",
              "  </thead>\n",
              "  <tbody>\n",
              "    <tr>\n",
              "      <th>0</th>\n",
              "      <td>sadness</td>\n",
              "      <td>Losing my girlfriend who made an end to our re...</td>\n",
              "    </tr>\n",
              "    <tr>\n",
              "      <th>1</th>\n",
              "      <td>disgust</td>\n",
              "      <td>[ No response.]</td>\n",
              "    </tr>\n",
              "    <tr>\n",
              "      <th>2</th>\n",
              "      <td>fear</td>\n",
              "      <td>Staying alone in a dark place.</td>\n",
              "    </tr>\n",
              "    <tr>\n",
              "      <th>3</th>\n",
              "      <td>shame</td>\n",
              "      <td>When I failed grade 7.</td>\n",
              "    </tr>\n",
              "    <tr>\n",
              "      <th>4</th>\n",
              "      <td>anger</td>\n",
              "      <td>I am a teacher in arts and crafts (boys from 1...</td>\n",
              "    </tr>\n",
              "  </tbody>\n",
              "</table>\n",
              "</div>"
            ],
            "text/plain": [
              "  Emotions                                               Text\n",
              "0  sadness  Losing my girlfriend who made an end to our re...\n",
              "1  disgust                                    [ No response.]\n",
              "2     fear                     Staying alone in a dark place.\n",
              "3    shame                             When I failed grade 7.\n",
              "4    anger  I am a teacher in arts and crafts (boys from 1..."
            ]
          },
          "execution_count": 3,
          "metadata": {},
          "output_type": "execute_result"
        }
      ],
      "source": [
        "df.head ()"
      ]
    },
    {
      "cell_type": "code",
      "execution_count": 4,
      "metadata": {
        "id": "B1d3uUgTfS-8"
      },
      "outputs": [
        {
          "name": "stdout",
          "output_type": "stream",
          "text": [
            "5366\n"
          ]
        },
        {
          "data": {
            "text/plain": [
              "Emotions\n",
              "sadness    775\n",
              "fear       770\n",
              "guilt      767\n",
              "shame      765\n",
              "anger      764\n",
              "joy        764\n",
              "disgust    761\n",
              "Name: count, dtype: int64"
            ]
          },
          "execution_count": 4,
          "metadata": {},
          "output_type": "execute_result"
        }
      ],
      "source": [
        "total_count = df['Emotions'].value_counts().sum()\n",
        "print (total_count)\n",
        "df['Emotions'].value_counts()\n"
      ]
    },
    {
      "cell_type": "code",
      "execution_count": 5,
      "metadata": {},
      "outputs": [
        {
          "name": "stdout",
          "output_type": "stream",
          "text": [
            "Encoded labels: [5 1 2 ... 5 1 2]\n"
          ]
        }
      ],
      "source": [
        "#Encoding the labels of the training file\n",
        "\n",
        "label_encoding = {'anger': 0, 'disgust': 1, 'fear': 2, 'guilt': 3, 'joy': 4, 'sadness': 5, 'shame': 6}\n",
        "y = df['Emotions'].values\n",
        "y_train_encoded = np.array([label_encoding[label] for label in y])\n",
        "print(\"Encoded labels:\", y_train_encoded)\n"
      ]
    },
    {
      "cell_type": "code",
      "execution_count": 6,
      "metadata": {},
      "outputs": [],
      "source": [
        "#Tokenizing, cleaning the data\n",
        "\n",
        "def tokenize(text):\n",
        "    translation_table = str.maketrans({c: f' {c} ' if not c.isalnum() else c for c in set(text)})  # creates translation\n",
        "    # table(dictionary) with the built-in function maketrans, set(text) makes an unordered collection of unique\n",
        "    # elements through set comprehension, a concise way to create sets\n",
        "    tokenized_text = text.translate(translation_table)  # uses translation table to add whitespace around special\n",
        "    # characters and punctuation\n",
        "    return tokenized_text.strip().lower().split()  # split-tokens split on space, lower-tokens made all lowercase,\n",
        "    # strip-and leading or trailing whitespaces are removed from string\n",
        "\n",
        "import string \n",
        "\n",
        "text = ''.join(df['Text'].astype(str))\n",
        "\n",
        "tokenized_text = []\n",
        "for index, sentence in enumerate(df['Text']):\n",
        "    emotion_label = df['Emotions'][index]\n",
        "    sentence = tokenize(sentence)\n",
        "    tokenized_text.append (sentence)\n",
        "\n",
        "filtered_tokens = []\n",
        "\n",
        "for tokens in tokenized_text:\n",
        "    clean_tokens = []\n",
        "    \n",
        "    for token in tokens:\n",
        "        if all(char in string.punctuation for char in token):\n",
        "            continue  # Skip punctuation tokens\n",
        "        if token.isdigit():\n",
        "            continue  # Skip digit tokens\n",
        "        else:\n",
        "            clean_tokens.append(token)  \n",
        "    \n",
        "    filtered_tokens.append(clean_tokens)\n",
        "\n",
        "tokenized_text = filtered_tokens\n",
        "\n",
        "vocab = []\n",
        "for sentence in tokenized_text:\n",
        "    for token in sentence:\n",
        "        vocab.append (token)\n",
        "vocab = set (vocab)\n"
      ]
    },
    {
      "cell_type": "code",
      "execution_count": 7,
      "metadata": {},
      "outputs": [],
      "source": [
        "#Creating tf-idf scores \n",
        "from math import log\n",
        "\n",
        "collection = [token for instance in tokenized_text for token in instance]\n",
        "\n",
        "#tf-idf\n",
        "\n",
        "def calculate_tfidf(token, document):\n",
        "    tf = document.count(token) / len(document)\n",
        "    idf = log(1 + (len(tokenized_text) / (collection.count(token) + 1)))\n",
        "    tfidf = tf * idf\n",
        "    return tfidf\n",
        "\n",
        "tfidf_scores_list = []\n",
        "for sentence in tokenized_text:\n",
        "    tfidf_scores = {token: calculate_tfidf(token, sentence) for token in set(sentence)}\n",
        "    tfidf_scores_list.append(tfidf_scores)"
      ]
    },
    {
      "cell_type": "code",
      "execution_count": null,
      "metadata": {},
      "outputs": [],
      "source": [
        "#Creating a matrix mapped to the training vocabulary \n",
        "\n",
        "from scipy.sparse import csr_matrix\n",
        "\n",
        "def CSR(x_emotion):\n",
        "    # Construct a vocabulary list from the tfidf_scores_list\n",
        "    vocab = list(set(token for scores in x_emotion for token in scores.keys()))\n",
        "\n",
        "    # Construct a mapping from term to column index\n",
        "    term_to_col = {term: idx for idx, term in enumerate(sorted(vocab))}\n",
        "\n",
        "    # Convert the list of TF-IDF scores into a CSR sparse matrix\n",
        "    n_docs = len(x_emotion)\n",
        "    n_terms = len(vocab)\n",
        "    rows = []\n",
        "    cols = []\n",
        "    data = []\n",
        "    for doc_idx, scores in enumerate(x_emotion):\n",
        "        for term, tfidf in scores.items():\n",
        "            col_idx = term_to_col[term]\n",
        "            rows.append(doc_idx)\n",
        "            cols.append(col_idx)\n",
        "            data.append(tfidf)\n",
        "\n",
        "    X_tfidf_sparse = csr_matrix((data, (rows, cols)), shape=(n_docs, n_terms))\n",
        "    return X_tfidf_sparse\n"
      ]
    },
    {
      "cell_type": "code",
      "execution_count": null,
      "metadata": {},
      "outputs": [
        {
          "data": {
            "text/plain": [
              "\"data = {'Emotions': y, 'Text': X_tfidf_sparse}\\ndf = pd.DataFrame(data)\\n\\n# Save DataFrame to Excel\\ndf.to_excel('tfidf_representations_training.xlsx', index=False)\""
            ]
          },
          "execution_count": 185,
          "metadata": {},
          "output_type": "execute_result"
        }
      ],
      "source": [
        "\"\"\"data = {'Emotions': y, 'Text': X_tfidf_sparse}\n",
        "df = pd.DataFrame(data)\n",
        "\n",
        "# Save DataFrame to Excel\n",
        "df.to_excel('tfidf_representations_training.xlsx', index=False)\"\"\""
      ]
    },
    {
      "cell_type": "code",
      "execution_count": null,
      "metadata": {},
      "outputs": [],
      "source": [
        "#Processing the testset\n",
        "\n",
        "from scipy.sparse import csr_matrix\n",
        "from math import log\n",
        "\n",
        "custom_headers_t = ['Emotion', 'Texts']\n",
        "file = '/Users/diana/Desktop/isear-test.xlsx'\n",
        "d = pd.read_excel(file, skiprows=1, header=None, names=custom_headers_t)\n",
        "\n",
        "#Encoding testset label\n",
        "y_test = d['Emotion']\n",
        "\n",
        "y_test_encoded = np.array([label_encoding[label] for label in y_test])\n",
        "\n",
        "# Tokenize the test data\n",
        "\n",
        "tokenized_text_test = []\n",
        "for index, sentence in enumerate(d['Texts']):\n",
        "    emotion_label = d['Emotion'][index]\n",
        "    sentence = tokenize(sentence)\n",
        "    tokenized_text_test.append (sentence)\n",
        "   \n",
        "filtered_tokens_test = []\n",
        "\n",
        "import string \n",
        "for tokens in tokenized_text_test:\n",
        "    clean_tokens = []\n",
        "    \n",
        "    for token in tokens:\n",
        "        if all(char in string.punctuation for char in token):\n",
        "            continue  # Skip punctuation tokens\n",
        "        if token.isdigit():\n",
        "            continue  # Skip digit tokens\n",
        "        else:\n",
        "            clean_tokens.append(token)  \n",
        "    \n",
        "    filtered_tokens_test.append(clean_tokens)\n",
        "\n",
        "# Print the filtered tokens\n",
        "#print(filtered_tokens_test)\n",
        "\n",
        "tokenized_text_test=filtered_tokens_test\n",
        "\n",
        "\n",
        "# Construct a list of TF-IDF scores for the test data\n",
        "tfidf_scores_list_test = []\n",
        "for sentence in tokenized_text_test:\n",
        "    tfidf_scores_test = {token: calculate_tfidf(token, sentence) for token in set(sentence)}\n",
        "    tfidf_scores_list_test.append(tfidf_scores_test)\n",
        "\n",
        "\n",
        "# Construct a mapping from term to the sorted training vocabulary\n",
        "term_to_col_test = {term: idx for idx, term in enumerate(sorted(vocab))}\n",
        "\n",
        "# Convert the list of TF-IDF scores into a CSR sparse matrix using the same vocabulary and mapping from training\n",
        "n_terms = len(vocab)\n",
        "n_docs_test = len(tfidf_scores_list_test)\n",
        "rows_test = []\n",
        "cols_test = []\n",
        "data_test = []\n",
        "for doc_idx, scores_t in enumerate(tfidf_scores_list_test):\n",
        "    for term, tfidf in scores_t.items():\n",
        "        if term in term_to_col_test:  # Check if term is in the vocabulary\n",
        "            col_idx = term_to_col_test[term]\n",
        "            rows_test.append(doc_idx)\n",
        "            cols_test.append(col_idx)\n",
        "            data_test.append(tfidf)\n",
        "\n",
        "\n",
        "X_tfidf_sparse_test = csr_matrix((data_test, (rows_test, cols_test)), shape=(n_docs_test, n_terms))\n",
        "\n"
      ]
    },
    {
      "cell_type": "code",
      "execution_count": null,
      "metadata": {},
      "outputs": [
        {
          "name": "stdout",
          "output_type": "stream",
          "text": [
            "Stored 'X_tfidf_sparse' (csr_matrix)\n",
            "Stored 'X_tfidf_sparse_test' (csr_matrix)\n",
            "Stored 'y_train_encoded' (ndarray)\n",
            "Stored 'vocab' (set)\n",
            "Stored 'collection' (list)\n",
            "Stored 'tokenized_text' (list)\n",
            "Stored 'y_test' (Series)\n"
          ]
        }
      ],
      "source": [
        "%store X_tfidf_sparse\n",
        "%store X_tfidf_sparse_test\n",
        "%store y_train_encoded\n",
        "%store vocab\n",
        "%store collection\n",
        "%store tokenized_text\n",
        "%store y_test"
      ]
    },
    {
      "cell_type": "markdown",
      "metadata": {},
      "source": []
    }
  ],
  "metadata": {
    "accelerator": "GPU",
    "colab": {
      "gpuType": "T4",
      "provenance": []
    },
    "kernelspec": {
      "display_name": "Python 3",
      "name": "python3"
    },
    "language_info": {
      "codemirror_mode": {
        "name": "ipython",
        "version": 3
      },
      "file_extension": ".py",
      "mimetype": "text/x-python",
      "name": "python",
      "nbconvert_exporter": "python",
      "pygments_lexer": "ipython3",
      "version": "3.10.13"
    }
  },
  "nbformat": 4,
  "nbformat_minor": 0
}
